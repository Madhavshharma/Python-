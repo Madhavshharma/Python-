{
 "cells": [
  {
   "cell_type": "code",
   "execution_count": 3,
   "metadata": {},
   "outputs": [
    {
     "name": "stdout",
     "output_type": "stream",
     "text": [
      "a\n",
      "b\n",
      "c\n",
      "a b c\n",
      "a b c "
     ]
    }
   ],
   "source": [
    "# functionalities of print fucntion\n",
    "print('a')\n",
    "print('b')\n",
    "print('c')\n",
    "\n",
    "print('a','b','c')\n",
    "\n",
    "print('a',end=\" \")\n",
    "print('b',end=\" \")\n",
    "print('c',end=\" \")\n",
    "\n"
   ]
  }
 ],
 "metadata": {
  "kernelspec": {
   "display_name": "Python 3",
   "language": "python",
   "name": "python3"
  },
  "language_info": {
   "codemirror_mode": {
    "name": "ipython",
    "version": 3
   },
   "file_extension": ".py",
   "mimetype": "text/x-python",
   "name": "python",
   "nbconvert_exporter": "python",
   "pygments_lexer": "ipython3",
   "version": "3.12.4"
  }
 },
 "nbformat": 4,
 "nbformat_minor": 2
}
