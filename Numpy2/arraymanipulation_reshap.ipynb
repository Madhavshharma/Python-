{
 "cells": [
  {
   "cell_type": "code",
   "execution_count": 1,
   "metadata": {},
   "outputs": [],
   "source": [
    "import numpy as np\n"
   ]
  },
  {
   "cell_type": "markdown",
   "metadata": {},
   "source": [
    "<h>-------------------- Manipulating The Array -----------------------</h>"
   ]
  },
  {
   "cell_type": "markdown",
   "metadata": {},
   "source": [
    "<h> 1. Flattening </h>\n",
    "\n",
    "<p> Flattening an array means converting a multi-dimensional array into a one-dimensional array."
   ]
  },
  {
   "cell_type": "code",
   "execution_count": 14,
   "metadata": {},
   "outputs": [
    {
     "name": "stdout",
     "output_type": "stream",
     "text": [
      "[[1 2 3]\n",
      " [2 4 6]\n",
      " [4 6 8]]\n",
      "----------\n",
      "[[1 2 3]\n",
      " [2 4 6]] [[ 7  9 10]\n",
      " [ 4  3  6]]\n",
      "----------\n",
      "[1 2 3 2 4 6 4 6 8]\n",
      "----------\n",
      "[ 1  2  3  2  4  6  7  9 10  4  3  6]\n"
     ]
    }
   ],
   "source": [
    "arr1=np.array([[1,2,3],[2,4,6],[4,6,8]])\n",
    "arr2=np.array([[[1,2,3],[2,4,6]],[[7,9,10],[4,3,6]]])\n",
    "print(arr1)\n",
    "print(\"-\"*10)\n",
    "print(*arr2)\n",
    "\n",
    "print(\"-\"*10)\n",
    "# Now Flatening \n",
    "flatten_array=arr1.flatten()\n",
    "print(flatten_array)\n",
    "print(\"-\"*10)\n",
    "flatten2_arr2=arr2.flatten()\n",
    "print(flatten2_arr2)"
   ]
  },
  {
   "cell_type": "markdown",
   "metadata": {},
   "source": [
    "<h> 2. Reshaping </h>\n",
    "<p> Reshaping an array involves changing the shape of the array while preserving its elements.\n",
    "Example illustrates reshaping a 2D array into a different shape using the 'reshape' method."
   ]
  },
  {
   "cell_type": "code",
   "execution_count": 31,
   "metadata": {},
   "outputs": [
    {
     "name": "stdout",
     "output_type": "stream",
     "text": [
      "(2, 3)\n",
      "[[1 2]\n",
      " [3 2]\n",
      " [4 6]]\n",
      "----------\n",
      "(2, 2, 3)\n",
      "[[[ 1  2]\n",
      "  [ 3  2]]\n",
      "\n",
      " [[ 4  6]\n",
      "  [ 7  9]]\n",
      "\n",
      " [[10  4]\n",
      "  [ 3  6]]]\n"
     ]
    }
   ],
   "source": [
    "arr1=np.array([[1,2,3],[2,4,6]])\n",
    "print(arr1.shape)\n",
    "arr2=np.array([[[1,2,3],[2,4,6]],[[7,9,10],[4,3,6]]])\n",
    "reshape_arry=np.reshape(arr1,(3,2))\n",
    "print(reshape_arry)\n",
    "\n",
    "print('-'*10)\n",
    "print(arr2.shape)\n",
    "reshapearr2_array=np.reshape(arr2,(3,2,2)) # without changing its data \n",
    "\n",
    "print(reshapearr2_array)"
   ]
  },
  {
   "cell_type": "markdown",
   "metadata": {},
   "source": [
    "<h> 3. Splitting </h>\n",
    "\n",
    "<p> Splitting arrays allows dividing an array into multiple sub-arrays along a specified axis.\n",
    "\n",
    "Examples demonstrate vertical and horizontal splitting using 'vsplit' and 'hsplit', as well as generic splitting using 'split'."
   ]
  },
  {
   "cell_type": "markdown",
   "metadata": {},
   "source": [
    "* Vsplit --> Vertical Split "
   ]
  },
  {
   "cell_type": "code",
   "execution_count": 43,
   "metadata": {},
   "outputs": [
    {
     "name": "stdout",
     "output_type": "stream",
     "text": [
      "[[ 1  2  3]\n",
      " [ 2  4  6]\n",
      " [12 24 36]\n",
      " [23 34 56]]\n",
      "[array([[1, 2, 3]]), array([[2, 4, 6]]), array([[12, 24, 36]]), array([[23, 34, 56]])]\n"
     ]
    }
   ],
   "source": [
    "arr2=np.array(((1,2,3),(2,4,6),(12,24,36),(23,34,56)))\n",
    "print(arr2)\n",
    "Vsplit_arry=np.vsplit(arr2,4)\n",
    "print(Vsplit_arry)"
   ]
  },
  {
   "cell_type": "code",
   "execution_count": 44,
   "metadata": {},
   "outputs": [
    {
     "name": "stdout",
     "output_type": "stream",
     "text": [
      "[array([[1, 2, 3],\n",
      "       [2, 4, 6]]), array([[12, 24, 36],\n",
      "       [23, 34, 56]])]\n"
     ]
    }
   ],
   "source": [
    "Vsplit_arry=np.vsplit(arr2,2)\n",
    "print(Vsplit_arry)"
   ]
  },
  {
   "cell_type": "markdown",
   "metadata": {},
   "source": [
    "<h> Cannot divide the aray in three equal parts interpreter will throw an error \n"
   ]
  },
  {
   "cell_type": "code",
   "execution_count": 45,
   "metadata": {},
   "outputs": [
    {
     "ename": "ValueError",
     "evalue": "array split does not result in an equal division",
     "output_type": "error",
     "traceback": [
      "\u001b[1;31m---------------------------------------------------------------------------\u001b[0m",
      "\u001b[1;31mValueError\u001b[0m                                Traceback (most recent call last)",
      "Cell \u001b[1;32mIn[45], line 1\u001b[0m\n\u001b[1;32m----> 1\u001b[0m Vsplit_arry\u001b[38;5;241m=\u001b[39m\u001b[43mnp\u001b[49m\u001b[38;5;241;43m.\u001b[39;49m\u001b[43mvsplit\u001b[49m\u001b[43m(\u001b[49m\u001b[43marr2\u001b[49m\u001b[43m,\u001b[49m\u001b[38;5;241;43m3\u001b[39;49m\u001b[43m)\u001b[49m\n\u001b[0;32m      2\u001b[0m \u001b[38;5;28mprint\u001b[39m(Vsplit_arry)\n",
      "File \u001b[1;32mc:\\Users\\codin\\AppData\\Local\\Programs\\Python\\Python312\\Lib\\site-packages\\numpy\\lib\\_shape_base_impl.py:1003\u001b[0m, in \u001b[0;36mvsplit\u001b[1;34m(ary, indices_or_sections)\u001b[0m\n\u001b[0;32m   1001\u001b[0m \u001b[38;5;28;01mif\u001b[39;00m _nx\u001b[38;5;241m.\u001b[39mndim(ary) \u001b[38;5;241m<\u001b[39m \u001b[38;5;241m2\u001b[39m:\n\u001b[0;32m   1002\u001b[0m     \u001b[38;5;28;01mraise\u001b[39;00m \u001b[38;5;167;01mValueError\u001b[39;00m(\u001b[38;5;124m'\u001b[39m\u001b[38;5;124mvsplit only works on arrays of 2 or more dimensions\u001b[39m\u001b[38;5;124m'\u001b[39m)\n\u001b[1;32m-> 1003\u001b[0m \u001b[38;5;28;01mreturn\u001b[39;00m \u001b[43msplit\u001b[49m\u001b[43m(\u001b[49m\u001b[43mary\u001b[49m\u001b[43m,\u001b[49m\u001b[43m \u001b[49m\u001b[43mindices_or_sections\u001b[49m\u001b[43m,\u001b[49m\u001b[43m \u001b[49m\u001b[38;5;241;43m0\u001b[39;49m\u001b[43m)\u001b[49m\n",
      "File \u001b[1;32mc:\\Users\\codin\\AppData\\Local\\Programs\\Python\\Python312\\Lib\\site-packages\\numpy\\lib\\_shape_base_impl.py:874\u001b[0m, in \u001b[0;36msplit\u001b[1;34m(ary, indices_or_sections, axis)\u001b[0m\n\u001b[0;32m    872\u001b[0m     N \u001b[38;5;241m=\u001b[39m ary\u001b[38;5;241m.\u001b[39mshape[axis]\n\u001b[0;32m    873\u001b[0m     \u001b[38;5;28;01mif\u001b[39;00m N \u001b[38;5;241m%\u001b[39m sections:\n\u001b[1;32m--> 874\u001b[0m         \u001b[38;5;28;01mraise\u001b[39;00m \u001b[38;5;167;01mValueError\u001b[39;00m(\n\u001b[0;32m    875\u001b[0m             \u001b[38;5;124m'\u001b[39m\u001b[38;5;124marray split does not result in an equal division\u001b[39m\u001b[38;5;124m'\u001b[39m) \u001b[38;5;28;01mfrom\u001b[39;00m \u001b[38;5;28;01mNone\u001b[39;00m\n\u001b[0;32m    876\u001b[0m \u001b[38;5;28;01mreturn\u001b[39;00m array_split(ary, indices_or_sections, axis)\n",
      "\u001b[1;31mValueError\u001b[0m: array split does not result in an equal division"
     ]
    }
   ],
   "source": [
    "Vsplit_arry=np.vsplit(arr2,3)\n",
    "print(Vsplit_arry)"
   ]
  },
  {
   "cell_type": "markdown",
   "metadata": {},
   "source": [
    "<h> * hsplit --> horizontal split "
   ]
  },
  {
   "cell_type": "code",
   "execution_count": 58,
   "metadata": {},
   "outputs": [
    {
     "name": "stdout",
     "output_type": "stream",
     "text": [
      "(4, 3)\n",
      "[[ 1  2  3]\n",
      " [ 2  4  6]\n",
      " [12 24 36]\n",
      " [23 34 56]]\n",
      "[array([[ 1],\n",
      "       [ 2],\n",
      "       [12],\n",
      "       [23]]), array([[ 2],\n",
      "       [ 4],\n",
      "       [24],\n",
      "       [34]]), array([[ 3],\n",
      "       [ 6],\n",
      "       [36],\n",
      "       [56]])]\n"
     ]
    }
   ],
   "source": [
    "arr2=np.array(((1,2,3),(2,4,6),(12,24,36),(23,34,56)))\n",
    "print(arr2.shape)\n",
    "print(arr2)\n",
    "hspli_arry=np.hsplit(arr2,3)\n",
    "print(hspli_arry)"
   ]
  },
  {
   "cell_type": "code",
   "execution_count": null,
   "metadata": {},
   "outputs": [],
   "source": [
    "arr2=np.array(((1,2,3),(2,4,6),(12,24,36),(23,34,56)))\n",
    "print(arr2.shape)\n",
    "print(arr2)\n",
    "hspli_arry=np.hsplit(arr2,3)\n",
    "print(hspli_arry)"
   ]
  },
  {
   "cell_type": "markdown",
   "metadata": {},
   "source": [
    "<h> 4. Merging </h>\n",
    "\n",
    "<p> Merging involves combining multiple arrays into a single array.\n",
    "Examples showcase concatenating arrays along different axes using 'concatenate', 'hstack', 'vstack', and 'stack'."
   ]
  },
  {
   "cell_type": "markdown",
   "metadata": {},
   "source": [
    "<h> * concerdinate"
   ]
  },
  {
   "cell_type": "code",
   "execution_count": 65,
   "metadata": {},
   "outputs": [
    {
     "name": "stdout",
     "output_type": "stream",
     "text": [
      "[1 2 3 4 1 5 2 9]\n"
     ]
    }
   ],
   "source": [
    "arr1 = np.array([1,2,3,4])\n",
    "arr2 = np.array([1,5,2,9])\n",
    "arr3=np.array([12,24,36,48,60])\n",
    "concer_ary=np.concatenate((arr1,arr2))\n",
    "print(concer_ary)"
   ]
  },
  {
   "cell_type": "code",
   "execution_count": 67,
   "metadata": {},
   "outputs": [
    {
     "name": "stdout",
     "output_type": "stream",
     "text": [
      "[ 1  2  3  4  1  5  2  9 12 24 36 48 60]\n"
     ]
    }
   ],
   "source": [
    "arr1 = np.array([1,2,3,4])\n",
    "arr2 = np.array([1,5,2,9])\n",
    "arr3=np.array([12,24,36,48,60])\n",
    "concer_ary=np.concatenate((arr1,arr2,arr3))\n",
    "print(concer_ary)"
   ]
  },
  {
   "cell_type": "markdown",
   "metadata": {},
   "source": [
    "<h> * vstack "
   ]
  },
  {
   "cell_type": "code",
   "execution_count": 77,
   "metadata": {},
   "outputs": [
    {
     "name": "stdout",
     "output_type": "stream",
     "text": [
      "[[1 2 3 4]\n",
      " [1 5 2 9]\n",
      " [1 2 6 8]\n",
      " [2 4 3 8]]\n"
     ]
    }
   ],
   "source": [
    "arr1 = np.array([1,2,3,4])\n",
    "arr2 = np.array([1,5,2,9])\n",
    "arr3 = np.array([1,2,6,8])\n",
    "arr4 = np.array([2,4,3,8,])\n",
    "vstack_array=np.vstack((arr1,arr2,arr3,arr4))\n",
    "print(vstack_array)"
   ]
  },
  {
   "cell_type": "code",
   "execution_count": 74,
   "metadata": {},
   "outputs": [
    {
     "name": "stdout",
     "output_type": "stream",
     "text": [
      "[[1 2 3 4]\n",
      " [1 5 2 9]\n",
      " [9 2 3 5]\n",
      " [8 2 9 4]]\n"
     ]
    }
   ],
   "source": [
    "arr1 = np.array([1,2,3,4])\n",
    "arr2 = np.array([1,5,2,9])\n",
    "arr3 = np.array([9,2,3,5])\n",
    "arr4 = np.array([8,2,9,4])\n",
    "\n",
    "concat_arr = np.vstack((arr1,arr2,arr3,arr4))\n",
    "\n",
    "print(concat_arr)"
   ]
  },
  {
   "cell_type": "code",
   "execution_count": 78,
   "metadata": {},
   "outputs": [
    {
     "name": "stdout",
     "output_type": "stream",
     "text": [
      "[1 2 3 4 1 5 2 9 9 2 3 5 8 2 9 4]\n"
     ]
    }
   ],
   "source": [
    "arr1 = np.array([1,2,3,4])\n",
    "arr2 = np.array([1,5,2,9])\n",
    "arr3 = np.array([9,2,3,5])\n",
    "arr4 = np.array([8,2,9,4])\n",
    "\n",
    "concat_arr = np.hstack((arr1,arr2,arr3,arr4))\n",
    "\n",
    "print(concat_arr)"
   ]
  },
  {
   "cell_type": "code",
   "execution_count": 79,
   "metadata": {},
   "outputs": [
    {
     "name": "stdout",
     "output_type": "stream",
     "text": [
      "0\n",
      "1\n",
      "2\n",
      "done \n"
     ]
    }
   ],
   "source": [
    "i=0\n",
    "while i<3:\n",
    "    print(i)\n",
    "    i=i+1\n",
    "else:\n",
    "    print(\"done \")"
   ]
  },
  {
   "cell_type": "code",
   "execution_count": 80,
   "metadata": {},
   "outputs": [
    {
     "name": "stdout",
     "output_type": "stream",
     "text": [
      "science\n"
     ]
    }
   ],
   "source": [
    "s=\"data science\"\n",
    "print(s[5:])"
   ]
  },
  {
   "cell_type": "markdown",
   "metadata": {},
   "source": [
    "\n"
   ]
  }
 ],
 "metadata": {
  "kernelspec": {
   "display_name": "Python 3",
   "language": "python",
   "name": "python3"
  },
  "language_info": {
   "codemirror_mode": {
    "name": "ipython",
    "version": 3
   },
   "file_extension": ".py",
   "mimetype": "text/x-python",
   "name": "python",
   "nbconvert_exporter": "python",
   "pygments_lexer": "ipython3",
   "version": "3.12.4"
  }
 },
 "nbformat": 4,
 "nbformat_minor": 2
}
