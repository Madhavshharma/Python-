{
 "cells": [
  {
   "cell_type": "markdown",
   "metadata": {},
   "source": []
  },
  {
   "cell_type": "markdown",
   "metadata": {},
   "source": [
    "### ** --------- Broadcasting for efficient calculation in numpy array ------------"
   ]
  },
  {
   "cell_type": "markdown",
   "metadata": {},
   "source": [
    "##### NumPy's broadcasting feature allows for efficient element-wise operations between arrays of different shapes without the need for explicit looping. In this article, we'll explore how broadcasting works and how it can be leveraged for arithmetic, comparison, logical, and bitwise operations in NumPy."
   ]
  },
  {
   "cell_type": "markdown",
   "metadata": {},
   "source": [
    "#### 1. arithmetic operatins \n"
   ]
  },
  {
   "cell_type": "code",
   "execution_count": 8,
   "metadata": {},
   "outputs": [
    {
     "name": "stdout",
     "output_type": "stream",
     "text": [
      "[1 2 3 4]\n",
      "[[1 2 3 4]\n",
      " [5 6 7 8]]\n",
      "--------------------\n",
      "[[ 2  4  6  8]\n",
      " [ 6  8 10 12]]\n",
      "[3 4 5 6]\n",
      "[[ 3  4  5  6]\n",
      " [ 7  8  9 10]]\n"
     ]
    }
   ],
   "source": [
    "## addition \n",
    "import numpy as np \n",
    "arr1=np.array([1,2,3,4])\n",
    "arr2=np.array([[1,2,3,4],[5,6,7,8]])\n",
    "print(arr1)\n",
    "print(arr2)\n",
    "\n",
    "print(\"--\"*10)\n",
    "\n",
    "print(arr1+arr2)\n",
    "print(arr1+2)\n",
    "print(arr2+2)"
   ]
  },
  {
   "cell_type": "code",
   "execution_count": 12,
   "metadata": {},
   "outputs": [
    {
     "name": "stdout",
     "output_type": "stream",
     "text": [
      "[[ 1  2  3  4]\n",
      " [10 11 20 30]]\n",
      "[[1 2 3 4]\n",
      " [5 6 7 8]]\n",
      "--------------------\n",
      "[[ 2  4  6  8]\n",
      " [15 17 27 38]]\n"
     ]
    }
   ],
   "source": [
    "## 2 dimensional array\n",
    "arr1=np.array([[1,2,3,4],[10,11,20,30]])\n",
    "arr2=np.array([[1,2,3,4],[5,6,7,8]])\n",
    "print(arr1)\n",
    "print(arr2)\n",
    "print(\"--\"*10)\n",
    "print(arr1+arr2)"
   ]
  },
  {
   "cell_type": "code",
   "execution_count": 16,
   "metadata": {},
   "outputs": [
    {
     "ename": "ValueError",
     "evalue": "operands could not be broadcast together with shapes (2,2,4) (4,4) ",
     "output_type": "error",
     "traceback": [
      "\u001b[1;31m---------------------------------------------------------------------------\u001b[0m",
      "\u001b[1;31mValueError\u001b[0m                                Traceback (most recent call last)",
      "Cell \u001b[1;32mIn[16], line 5\u001b[0m\n\u001b[0;32m      2\u001b[0m arr3\u001b[38;5;241m=\u001b[39mnp\u001b[38;5;241m.\u001b[39marray([[[\u001b[38;5;241m2\u001b[39m,\u001b[38;5;241m4\u001b[39m,\u001b[38;5;241m6\u001b[39m,\u001b[38;5;241m8\u001b[39m],[\u001b[38;5;241m1\u001b[39m,\u001b[38;5;241m2\u001b[39m,\u001b[38;5;241m3\u001b[39m,\u001b[38;5;241m4\u001b[39m]],[[\u001b[38;5;241m5\u001b[39m,\u001b[38;5;241m6\u001b[39m,\u001b[38;5;241m7\u001b[39m,\u001b[38;5;241m8\u001b[39m],[\u001b[38;5;241m3\u001b[39m,\u001b[38;5;241m5\u001b[39m,\u001b[38;5;241m7\u001b[39m,\u001b[38;5;241m9\u001b[39m]]])\n\u001b[0;32m      3\u001b[0m arr4\u001b[38;5;241m=\u001b[39mnp\u001b[38;5;241m.\u001b[39marray([[\u001b[38;5;241m3\u001b[39m,\u001b[38;5;241m6\u001b[39m,\u001b[38;5;241m9\u001b[39m,\u001b[38;5;241m12\u001b[39m],[\u001b[38;5;241m12\u001b[39m,\u001b[38;5;241m24\u001b[39m,\u001b[38;5;241m36\u001b[39m,\u001b[38;5;241m48\u001b[39m],[\u001b[38;5;241m2\u001b[39m,\u001b[38;5;241m4\u001b[39m,\u001b[38;5;241m6\u001b[39m,\u001b[38;5;241m8\u001b[39m],[\u001b[38;5;241m1\u001b[39m,\u001b[38;5;241m3\u001b[39m,\u001b[38;5;241m5\u001b[39m,\u001b[38;5;241m7\u001b[39m]])\n\u001b[1;32m----> 5\u001b[0m \u001b[38;5;28mprint\u001b[39m(\u001b[43marr3\u001b[49m\u001b[38;5;241;43m+\u001b[39;49m\u001b[43marr4\u001b[49m)\n",
      "\u001b[1;31mValueError\u001b[0m: operands could not be broadcast together with shapes (2,2,4) (4,4) "
     ]
    }
   ],
   "source": [
    "## 3 dimensional arrray\n",
    "arr3=np.array([[[2,4,6,8],[1,2,3,4]],[[5,6,7,8],[3,5,7,9]]])\n",
    "arr4=np.array([[3,6,9,12],[12,24,36,48],[2,4,6,8],[1,3,5,7]])\n",
    "\n",
    "print(arr3+arr4)\n"
   ]
  },
  {
   "cell_type": "code",
   "execution_count": 17,
   "metadata": {},
   "outputs": [
    {
     "name": "stdout",
     "output_type": "stream",
     "text": [
      "[[[2 4 6 8]\n",
      "  [1 2 3 4]]\n",
      "\n",
      " [[5 6 7 8]\n",
      "  [3 5 7 9]]]\n",
      "----------\n",
      "[[[ 3  6  9 12]\n",
      "  [12 24 36 48]]\n",
      "\n",
      " [[ 2  4  6  8]\n",
      "  [ 1  3  5  7]]]\n",
      "----------\n",
      "[[[ 5 10 15 20]\n",
      "  [13 26 39 52]]\n",
      "\n",
      " [[ 7 10 13 16]\n",
      "  [ 4  8 12 16]]]\n"
     ]
    }
   ],
   "source": [
    "arr3=np.array([[[2,4,6,8],[1,2,3,4]],[[5,6,7,8],[3,5,7,9]]])\n",
    "arr4=np.array([[[3,6,9,12],[12,24,36,48]],[[2,4,6,8],[1,3,5,7]]])\n",
    "\n",
    "print(arr3)\n",
    "print(\"-\"*10)\n",
    "print(arr4)\n",
    "\n",
    "print(\"-\"*10)\n",
    "\n",
    "print(arr3+arr4)"
   ]
  },
  {
   "cell_type": "code",
   "execution_count": 18,
   "metadata": {},
   "outputs": [
    {
     "name": "stdout",
     "output_type": "stream",
     "text": [
      "[1 2 3 4]\n",
      "[[1 2 3 4]\n",
      " [5 6 7 8]]\n",
      "--------------------\n",
      "[[ 0  0  0  0]\n",
      " [-4 -4 -4 -4]]\n",
      "[-1  0  1  2]\n",
      "[[-1  0  1  2]\n",
      " [ 3  4  5  6]]\n"
     ]
    }
   ],
   "source": [
    "## subtraction \n",
    "arr1=np.array([1,2,3,4])\n",
    "arr2=np.array([[1,2,3,4],[5,6,7,8]])\n",
    "print(arr1)\n",
    "print(arr2)\n",
    "\n",
    "print(\"--\"*10)\n",
    "\n",
    "print(arr1-arr2)\n",
    "print(arr1-2)\n",
    "print(arr2-2)\n",
    "\n"
   ]
  },
  {
   "cell_type": "code",
   "execution_count": 19,
   "metadata": {},
   "outputs": [
    {
     "name": "stdout",
     "output_type": "stream",
     "text": [
      "[1 2 3 4]\n",
      "[[1 2 3 4]\n",
      " [5 6 7 8]]\n",
      "--------------------\n",
      "[[ 1  4  9 16]\n",
      " [ 5 12 21 32]]\n",
      "[2 4 6 8]\n",
      "[[ 2  4  6  8]\n",
      " [10 12 14 16]]\n"
     ]
    }
   ],
   "source": [
    "## multiplication \n",
    "arr1=np.array([1,2,3,4])\n",
    "arr2=np.array([[1,2,3,4],[5,6,7,8]])\n",
    "print(arr1)\n",
    "print(arr2)\n",
    "\n",
    "print(\"--\"*10)\n",
    "\n",
    "print(arr1*arr2)\n",
    "print(arr1*2)\n",
    "print(arr2*2)"
   ]
  },
  {
   "cell_type": "code",
   "execution_count": 20,
   "metadata": {},
   "outputs": [
    {
     "name": "stdout",
     "output_type": "stream",
     "text": [
      "[1 2 3 4]\n",
      "[[1 2 3 4]\n",
      " [5 6 7 8]]\n",
      "--------------------\n",
      "[[1.         1.         1.         1.        ]\n",
      " [0.2        0.33333333 0.42857143 0.5       ]]\n",
      "[0.5 1.  1.5 2. ]\n",
      "[[0.5 1.  1.5 2. ]\n",
      " [2.5 3.  3.5 4. ]]\n"
     ]
    }
   ],
   "source": [
    "### Divide \n",
    "arr1=np.array([1,2,3,4])\n",
    "arr2=np.array([[1,2,3,4],[5,6,7,8]])\n",
    "print(arr1)\n",
    "print(arr2)\n",
    "\n",
    "print(\"--\"*10)\n",
    "\n",
    "print(arr1/arr2)\n",
    "print(arr1/2)\n",
    "print(arr2/2)"
   ]
  },
  {
   "cell_type": "code",
   "execution_count": 21,
   "metadata": {},
   "outputs": [
    {
     "name": "stdout",
     "output_type": "stream",
     "text": [
      "[1 2 3 4]\n",
      "[[1 2 3 4]\n",
      " [5 6 7 8]]\n",
      "--------------------\n",
      "[[    1     4    27   256]\n",
      " [    1    64  2187 65536]]\n",
      "[ 1  4  9 16]\n",
      "[[ 1  4  9 16]\n",
      " [25 36 49 64]]\n"
     ]
    }
   ],
   "source": [
    "# Exponential \n",
    "arr1=np.array([1,2,3,4])\n",
    "arr2=np.array([[1,2,3,4],[5,6,7,8]])\n",
    "print(arr1)\n",
    "print(arr2)\n",
    "\n",
    "print(\"--\"*10)\n",
    "\n",
    "print(arr1**arr2)\n",
    "print(arr1**2)\n",
    "print(arr2**2)\n"
   ]
  },
  {
   "cell_type": "code",
   "execution_count": 22,
   "metadata": {},
   "outputs": [
    {
     "name": "stdout",
     "output_type": "stream",
     "text": [
      "[1 2 3 4]\n",
      "[[1 2 3 4]\n",
      " [5 6 7 8]]\n",
      "--------------------\n",
      "[[0 0 0 0]\n",
      " [1 2 3 4]]\n",
      "[1 0 1 0]\n",
      "[[1 0 1 0]\n",
      " [1 0 1 0]]\n"
     ]
    }
   ],
   "source": [
    "## Modulo \n",
    "arr1=np.array([1,2,3,4])\n",
    "arr2=np.array([[1,2,3,4],[5,6,7,8]])\n",
    "print(arr1)\n",
    "print(arr2)\n",
    "\n",
    "print(\"--\"*10)\n",
    "\n",
    "print(arr1%arr2)\n",
    "print(arr1%2)\n",
    "print(arr2%2)"
   ]
  },
  {
   "cell_type": "markdown",
   "metadata": {},
   "source": [
    "#### 2. comparison "
   ]
  },
  {
   "cell_type": "code",
   "execution_count": 24,
   "metadata": {},
   "outputs": [
    {
     "name": "stdout",
     "output_type": "stream",
     "text": [
      "[1 2 3 4]\n",
      "[[1 2 3 4]\n",
      " [5 6 7 8]]\n",
      "--------------------\n",
      "[[False False False False]\n",
      " [False False False False]]\n",
      "[[False False False False]\n",
      " [ True  True  True  True]]\n"
     ]
    }
   ],
   "source": [
    "arr1=np.array([1,2,3,4])\n",
    "arr2=np.array([[1,2,3,4],[5,6,7,8]])\n",
    "print(arr1)\n",
    "print(arr2)\n",
    "\n",
    "print(\"--\"*10)\n",
    "\n",
    "# >(greater than)\n",
    "print(arr1>arr2)\n",
    "print(arr2>arr1)\n",
    "\n"
   ]
  },
  {
   "cell_type": "code",
   "execution_count": 25,
   "metadata": {},
   "outputs": [
    {
     "name": "stdout",
     "output_type": "stream",
     "text": [
      "--------------------\n",
      "[[False False False False]\n",
      " [ True  True  True  True]]\n",
      "--------------------\n",
      "[[False False False False]\n",
      " [False False False False]]\n"
     ]
    }
   ],
   "source": [
    "# <(less than)\n",
    "arr1=np.array([1,2,3,4])\n",
    "arr2=np.array([[1,2,3,4],[5,6,7,8]])\n",
    "\n",
    "print(\"--\"*10)\n",
    "\n",
    "print(arr1<arr2)\n",
    "print(\"--\"*10)\n",
    "print(arr2<arr1)"
   ]
  },
  {
   "cell_type": "code",
   "execution_count": 27,
   "metadata": {},
   "outputs": [
    {
     "name": "stdout",
     "output_type": "stream",
     "text": [
      "--------------------\n",
      "[[ True  True  True  True]\n",
      " [False False False False]]\n",
      "--------------------\n",
      "[[ True  True  True  True]\n",
      " [ True  True  True  True]]\n"
     ]
    }
   ],
   "source": [
    "# >= \n",
    "\n",
    "arr1=np.array([1,2,3,4])\n",
    "arr2=np.array([[1,2,3,4],[5,6,7,8]])\n",
    "\n",
    "print(\"--\"*10)\n",
    "\n",
    "print(arr1>=arr2)\n",
    "print(\"--\"*10)\n",
    "print(arr2>=arr1)"
   ]
  },
  {
   "cell_type": "code",
   "execution_count": 29,
   "metadata": {},
   "outputs": [
    {
     "name": "stdout",
     "output_type": "stream",
     "text": [
      "--------------------\n",
      "[[ True  True  True  True]\n",
      " [ True  True  True  True]]\n",
      "--------------------\n",
      "[[ True  True  True  True]\n",
      " [False False False False]]\n"
     ]
    }
   ],
   "source": [
    "## <=\n",
    "arr1=np.array([1,2,3,4])\n",
    "arr2=np.array([[1,2,3,4],[5,6,7,8]])\n",
    "\n",
    "print(\"--\"*10)\n",
    "\n",
    "print(arr1<=arr2)\n",
    "print(\"--\"*10)\n",
    "print(arr2<=arr1)"
   ]
  },
  {
   "cell_type": "markdown",
   "metadata": {},
   "source": [
    "#### 3. Logical "
   ]
  },
  {
   "cell_type": "code",
   "execution_count": 30,
   "metadata": {},
   "outputs": [
    {
     "name": "stdout",
     "output_type": "stream",
     "text": [
      "[1 2 3]\n",
      "[[1 2 3]\n",
      " [4 5 6]]\n",
      "----------\n",
      "[[1 2 3]\n",
      " [0 0 2]]\n",
      "----------\n",
      "[[1 2 3]\n",
      " [5 7 7]]\n",
      "----------\n",
      "[[0 0 0]\n",
      " [5 7 5]]\n",
      "----------\n"
     ]
    }
   ],
   "source": [
    "import numpy as np\n",
    "a = np.array([1,2,3])\n",
    "b = np.array([[1, 2, 3],[4,5,6]])\n",
    "print(a)\n",
    "print(b)\n",
    "\n",
    "print('-'*10)\n",
    "\n",
    "print(a & b)\n",
    "print('-'*10)\n",
    "\n",
    "print(a | b)\n",
    "print('-'*10)\n",
    "\n",
    "print(a ^ b)\n",
    "print('-'*10)\n"
   ]
  },
  {
   "cell_type": "markdown",
   "metadata": {},
   "source": [
    "#### 4. Bitwise "
   ]
  },
  {
   "cell_type": "code",
   "execution_count": null,
   "metadata": {},
   "outputs": [],
   "source": [
    "import numpy as np\n",
    "a = np.array([1,2,3])\n",
    "b = np.array([[1, 2, 3],[4,5,6]])\n",
    "\n",
    "print(a)\n",
    "print(b)\n",
    "print('-'*10)\n",
    "\n",
    "print(np.bitwise_and(a,b))\n",
    "\n",
    "print(np.bitwise_or(a,b))\n",
    "\n",
    "print(np.bitwise_xor(a,b))\n",
    "\n",
    "print(np.bitwise_not(a,b))\n",
    "\n",
    "print(np.right_shift(a,b))\n",
    "\n",
    "print(np.left_shift(a,b))\n"
   ]
  },
  {
   "cell_type": "code",
   "execution_count": null,
   "metadata": {},
   "outputs": [],
   "source": []
  },
  {
   "cell_type": "code",
   "execution_count": null,
   "metadata": {},
   "outputs": [],
   "source": []
  },
  {
   "cell_type": "code",
   "execution_count": null,
   "metadata": {},
   "outputs": [],
   "source": []
  },
  {
   "cell_type": "code",
   "execution_count": null,
   "metadata": {},
   "outputs": [],
   "source": []
  },
  {
   "cell_type": "code",
   "execution_count": null,
   "metadata": {},
   "outputs": [],
   "source": []
  },
  {
   "cell_type": "code",
   "execution_count": null,
   "metadata": {},
   "outputs": [],
   "source": []
  }
 ],
 "metadata": {
  "kernelspec": {
   "display_name": "Python 3",
   "language": "python",
   "name": "python3"
  },
  "language_info": {
   "codemirror_mode": {
    "name": "ipython",
    "version": 3
   },
   "file_extension": ".py",
   "mimetype": "text/x-python",
   "name": "python",
   "nbconvert_exporter": "python",
   "pygments_lexer": "ipython3",
   "version": "3.12.4"
  }
 },
 "nbformat": 4,
 "nbformat_minor": 2
}
