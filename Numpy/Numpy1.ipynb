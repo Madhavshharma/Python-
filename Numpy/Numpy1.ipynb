{
 "cells": [
  {
   "cell_type": "markdown",
   "metadata": {},
   "source": [
    "<h>-- NumpyArray    Vs    List -- "
   ]
  },
  {
   "cell_type": "code",
   "execution_count": 3,
   "metadata": {},
   "outputs": [
    {
     "name": "stdout",
     "output_type": "stream",
     "text": [
      "[1, 2, 3]\n",
      "<class 'list'>\n",
      "[1 2 3]\n",
      "<class 'numpy.ndarray'>\n"
     ]
    }
   ],
   "source": [
    "lst=[1,2,3]\n",
    "print(lst)\n",
    "print(type(lst))\n",
    "\n",
    "\n",
    "import numpy as np\n",
    "arr= np.array([1,2,3])\n",
    "print(arr)\n",
    "print(type(arr))"
   ]
  },
  {
   "cell_type": "markdown",
   "metadata": {},
   "source": [
    "<h>Comparing the elements of array and list"
   ]
  },
  {
   "cell_type": "code",
   "execution_count": 4,
   "metadata": {},
   "outputs": [
    {
     "name": "stdout",
     "output_type": "stream",
     "text": [
      "[ True  True  True]\n"
     ]
    }
   ],
   "source": [
    "print(arr==lst)"
   ]
  },
  {
   "cell_type": "markdown",
   "metadata": {},
   "source": [
    "<h> Function to convert the array into list"
   ]
  },
  {
   "cell_type": "code",
   "execution_count": 7,
   "metadata": {},
   "outputs": [
    {
     "name": "stdout",
     "output_type": "stream",
     "text": [
      "[1, 2, 3]\n",
      "[1 2 4]\n",
      "[1, 2, 4]\n"
     ]
    }
   ],
   "source": [
    "lst2=[1,2,3]\n",
    "arr2=np.array([1,2,4])\n",
    "\n",
    "print(lst2)\n",
    "print(arr2)\n",
    "print(arr2.tolist())  # it will convert the numpy array into list"
   ]
  },
  {
   "cell_type": "code",
   "execution_count": 11,
   "metadata": {},
   "outputs": [
    {
     "name": "stdout",
     "output_type": "stream",
     "text": [
      "[1, 2, 2]\n",
      "<class 'list'>\n",
      "[1 2 3]\n",
      "<class 'numpy.ndarray'>\n",
      "[ True  True False]\n",
      "False\n"
     ]
    }
   ],
   "source": [
    "lst=[1,2,2]\n",
    "print(lst)\n",
    "print(type(lst))\n",
    "\n",
    "\n",
    "arr= np.array([1,2,3])\n",
    "print(arr)\n",
    "print(type(arr))\n",
    "print(lst==arr)\n",
    "print(arr.tolist()==lst)"
   ]
  },
  {
   "cell_type": "code",
   "execution_count": 12,
   "metadata": {},
   "outputs": [
    {
     "name": "stdout",
     "output_type": "stream",
     "text": [
      "[1, 2, 3]\n",
      "<class 'list'>\n",
      "[1 2 3]\n",
      "<class 'numpy.ndarray'>\n",
      "[ True  True  True]\n",
      "True\n"
     ]
    }
   ],
   "source": [
    "lst=[1,2,3]\n",
    "print(lst)\n",
    "print(type(lst))\n",
    "\n",
    "\n",
    "arr= np.array([1,2,3])\n",
    "print(arr)\n",
    "print(type(arr))\n",
    "print(lst==arr)\n",
    "print(arr.tolist()==lst)"
   ]
  },
  {
   "cell_type": "markdown",
   "metadata": {},
   "source": []
  },
  {
   "cell_type": "markdown",
   "metadata": {},
   "source": [
    "<p>--- If the elements of array and list are same but they are not sorted than we can sorted them using ** Sorted function() , in case we want to see them equal"
   ]
  },
  {
   "cell_type": "code",
   "execution_count": 16,
   "metadata": {},
   "outputs": [
    {
     "name": "stdout",
     "output_type": "stream",
     "text": [
      "[1, 3, 2]\n",
      "<class 'list'>\n",
      "---------\n",
      "[1 2 3]\n",
      "<class 'numpy.ndarray'>\n",
      "[ True False False]\n",
      "False\n",
      "---------\n",
      "----------\n",
      "True\n",
      "----------\n"
     ]
    }
   ],
   "source": [
    "lst=[1,3,2]\n",
    "print(lst)\n",
    "print(type(lst))\n",
    "print('---------')\n",
    "\n",
    "\n",
    "arr= np.array([1,2,3])\n",
    "print(arr)\n",
    "print(type(arr))\n",
    "print(lst==arr)\n",
    "print(arr.tolist()==lst)\n",
    "print('---------')\n",
    "## In the above statement it will show false because the elements of both array \n",
    "## and list are not same \n",
    "print('----------')\n",
    "# so we can sort them using sorted function , but the condition is elements should be same \n",
    "\n",
    "print(sorted(lst)==sorted(arr))\n",
    "print('----------')\n"
   ]
  },
  {
   "cell_type": "markdown",
   "metadata": {},
   "source": [
    "<h>2. Adding the elements in array vs list\n"
   ]
  },
  {
   "cell_type": "code",
   "execution_count": 11,
   "metadata": {},
   "outputs": [
    {
     "name": "stdout",
     "output_type": "stream",
     "text": [
      "[1, 3, 4, 5, 6]\n",
      "<class 'list'>\n",
      "[1, 3, 4, 5, 6, 7]\n",
      "[4 2 3 6 9]\n",
      "<class 'numpy.ndarray'>\n",
      "[ 4  2  3  6  9 45]\n"
     ]
    }
   ],
   "source": [
    "lst=[1,3,4,5,6]\n",
    "print(lst)\n",
    "print(type(lst))\n",
    "# adding the elements in lst\n",
    "lst.append(7)\n",
    "print(lst)\n",
    "\n",
    "\n",
    "import numpy as np\n",
    "arr2=np.array([4,2,3,6,9])\n",
    "print(arr2)\n",
    "print(type(arr2))\n",
    "# adding the element t=in numpy array\n",
    "arr2= np.append(arr2,45) # important to asign the np.append function into a variable\n",
    "\n",
    "print(arr2)"
   ]
  },
  {
   "cell_type": "markdown",
   "metadata": {},
   "source": [
    "<h4>3. Removing the elements from the lst vs array"
   ]
  },
  {
   "cell_type": "markdown",
   "metadata": {},
   "source": [
    "<p>*** At the time of  deletion w ewill give the indexing whilw at the time of adding or append the element will be given "
   ]
  },
  {
   "cell_type": "code",
   "execution_count": 14,
   "metadata": {},
   "outputs": [
    {
     "name": "stdout",
     "output_type": "stream",
     "text": [
      "[1, 3, 4, 5, 6]\n",
      "<class 'list'>\n",
      "[1, 3, 4]\n"
     ]
    }
   ],
   "source": [
    "lst=[1,3,4,5,6]\n",
    "print(lst)\n",
    "print(type(lst))\n",
    "lst.pop() # deletion using pop function \n",
    "del lst[-1]  # removing using delete function \n",
    "\n",
    "print(lst)\n",
    "\n",
    "import numpy as np\n",
    "arr2=np.array([4,2,3,6,9])\n",
    "print(arr2)\n",
    "print(type(arr2))\n",
    "\n",
    "arr2= np.delete(arr2,-2) \n"
   ]
  },
  {
   "cell_type": "markdown",
   "metadata": {},
   "source": [
    "<h4>4. Updation in array vs list "
   ]
  },
  {
   "cell_type": "markdown",
   "metadata": {},
   "source": [
    "<p> *** to update the value there is also need of indexing "
   ]
  },
  {
   "cell_type": "code",
   "execution_count": 18,
   "metadata": {},
   "outputs": [
    {
     "name": "stdout",
     "output_type": "stream",
     "text": [
      "[2, 3.4, 5]\n",
      "[1, 8, 4]\n",
      "[2 3 6 9]\n",
      "[0 3 6 9]\n"
     ]
    }
   ],
   "source": [
    "lst2=[2,3.4,5]\n",
    "print(lst2)\n",
    "lst[-2]=8\n",
    "print(lst)\n",
    "\n",
    "\n",
    "arr3=np.array([2,3,6,9])\n",
    "print(arr3)\n",
    "arr3[-4]=0\n",
    "print(arr3)\n"
   ]
  },
  {
   "cell_type": "markdown",
   "metadata": {},
   "source": [
    "<h4> 5. Comarison of time in searching the element in list and  numpy array "
   ]
  },
  {
   "cell_type": "code",
   "execution_count": 49,
   "metadata": {},
   "outputs": [
    {
     "name": "stdout",
     "output_type": "stream",
     "text": [
      "Number not found\n",
      "searching time for list 0.014920949935913086\n",
      "--------------\n",
      "not found\n",
      "searching time for numpuy array 0.009443044662475586\n"
     ]
    }
   ],
   "source": [
    "import time \n",
    "\n",
    "my_lst=list(range(1000))\n",
    "# print(my_lst[0:19])\n",
    "\n",
    "start_time=time.time()\n",
    "\n",
    "for i in my_lst:\n",
    "    if 4500 in my_lst:\n",
    "        print(230)\n",
    "else:\n",
    "    print(\"Number not found\")\n",
    "   \n",
    "end_time=time.time()\n",
    "\n",
    "print(\"searching time for list\",end_time-start_time) \n",
    "\n",
    "print(\"--------------\")\n",
    "\n",
    "my_array=np.array(range(1200))\n",
    "# print(my_array[:120])\n",
    "\n",
    "\n",
    "start_time=time.time()\n",
    "\n",
    "for i in range(1200) :\n",
    "    if 2300 in my_array:\n",
    "        print(\"found\")\n",
    "else:\n",
    "    print(\"not found\")\n",
    "\n",
    "end_time=time.time()\n",
    "\n",
    "print(\"searching time for numpuy array\",end_time-start_time)\n",
    "    \n",
    "\n",
    "    \n",
    "\n",
    "\n",
    "\n",
    "\n"
   ]
  },
  {
   "cell_type": "markdown",
   "metadata": {},
   "source": [
    "<p> The searching time for numpy arrya is less as compared to list "
   ]
  },
  {
   "cell_type": "code",
   "execution_count": null,
   "metadata": {},
   "outputs": [],
   "source": []
  },
  {
   "cell_type": "code",
   "execution_count": null,
   "metadata": {},
   "outputs": [],
   "source": []
  },
  {
   "cell_type": "code",
   "execution_count": null,
   "metadata": {},
   "outputs": [],
   "source": []
  },
  {
   "cell_type": "code",
   "execution_count": null,
   "metadata": {},
   "outputs": [],
   "source": []
  },
  {
   "cell_type": "code",
   "execution_count": null,
   "metadata": {},
   "outputs": [],
   "source": []
  }
 ],
 "metadata": {
  "kernelspec": {
   "display_name": "Python 3",
   "language": "python",
   "name": "python3"
  },
  "language_info": {
   "codemirror_mode": {
    "name": "ipython",
    "version": 3
   },
   "file_extension": ".py",
   "mimetype": "text/x-python",
   "name": "python",
   "nbconvert_exporter": "python",
   "pygments_lexer": "ipython3",
   "version": "3.12.4"
  }
 },
 "nbformat": 4,
 "nbformat_minor": 2
}
