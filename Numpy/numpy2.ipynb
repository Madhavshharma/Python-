{
 "cells": [
  {
   "cell_type": "code",
   "execution_count": 1,
   "metadata": {},
   "outputs": [],
   "source": [
    "import numpy as np"
   ]
  },
  {
   "cell_type": "markdown",
   "metadata": {},
   "source": [
    "<h4>* Converting the Data Structures into numpy array <h4>\n",
    "<p> In this section we will look that how we can convert the data structure like tuple, list, dict, set into a numpy aray"
   ]
  },
  {
   "cell_type": "markdown",
   "metadata": {},
   "source": [
    "<h> (i) converting tuple into array "
   ]
  },
  {
   "cell_type": "code",
   "execution_count": 2,
   "metadata": {},
   "outputs": [
    {
     "name": "stdout",
     "output_type": "stream",
     "text": [
      "(1, 2, 34, 5)\n",
      "<class 'tuple'>\n",
      "[ 1  2 34  5]\n",
      "<class 'numpy.ndarray'>\n"
     ]
    }
   ],
   "source": [
    "tupl=(1,2,34,5)\n",
    "print(tupl)\n",
    "print(type(tupl))\n",
    "\n",
    "arr=np.array(tupl)\n",
    "print(arr)\n",
    "print(type(arr))"
   ]
  },
  {
   "cell_type": "markdown",
   "metadata": {},
   "source": [
    "<h> (ii) converting list into array"
   ]
  },
  {
   "cell_type": "code",
   "execution_count": 3,
   "metadata": {},
   "outputs": [
    {
     "name": "stdout",
     "output_type": "stream",
     "text": [
      "[1, 3, 4, 5, 7]\n",
      "<class 'list'>\n",
      "[1 3 4 5 7]\n",
      "<class 'numpy.ndarray'>\n"
     ]
    }
   ],
   "source": [
    "lst=[1,3,4,5,7]\n",
    "print(lst)\n",
    "print(type(lst))\n",
    "\n",
    "arr1=np.array(lst)\n",
    "print(arr1)\n",
    "print(type(arr1))"
   ]
  },
  {
   "cell_type": "markdown",
   "metadata": {},
   "source": [
    "<h> (iii) converting dictionary  into array "
   ]
  },
  {
   "cell_type": "code",
   "execution_count": 12,
   "metadata": {},
   "outputs": [
    {
     "name": "stdout",
     "output_type": "stream",
     "text": [
      "{1: 'madhav', 2: 'hinani', 4: 'harsh'}\n",
      "------------\n",
      "{1: 'madhav', 2: 'hinani', 4: 'harsh'}\n",
      "<class 'dict'>\n",
      "------------\n"
     ]
    },
    {
     "ename": "TypeError",
     "evalue": "'list' object is not callable",
     "output_type": "error",
     "traceback": [
      "\u001b[1;31m---------------------------------------------------------------------------\u001b[0m",
      "\u001b[1;31mTypeError\u001b[0m                                 Traceback (most recent call last)",
      "Cell \u001b[1;32mIn[12], line 17\u001b[0m\n\u001b[0;32m      8\u001b[0m \u001b[38;5;28mprint\u001b[39m(\u001b[38;5;124m\"\u001b[39m\u001b[38;5;124m------------\u001b[39m\u001b[38;5;124m\"\u001b[39m)\n\u001b[0;32m     10\u001b[0m \u001b[38;5;66;03m# we can see after the execution that the dictionary is not looking completely like the np array , because it has two parts\u001b[39;00m\n\u001b[0;32m     11\u001b[0m \u001b[38;5;66;03m# key value pair so we can break them into part and after that we will convert them into list and to list we will convert #\u001b[39;00m\n\u001b[0;32m     12\u001b[0m \u001b[38;5;66;03m# into aray \u001b[39;00m\n\u001b[0;32m     13\u001b[0m \n\u001b[0;32m     14\u001b[0m \u001b[38;5;66;03m# arr_key=np.array(lst(dicti.keys()))\u001b[39;00m\n\u001b[0;32m     15\u001b[0m \u001b[38;5;66;03m# print(arr_key)\u001b[39;00m\n\u001b[1;32m---> 17\u001b[0m arr_value\u001b[38;5;241m=\u001b[39mnp\u001b[38;5;241m.\u001b[39marray(\u001b[43mlst\u001b[49m\u001b[43m(\u001b[49m\u001b[43mdct\u001b[49m\u001b[38;5;241;43m.\u001b[39;49m\u001b[43mvalues\u001b[49m\u001b[43m(\u001b[49m\u001b[43m)\u001b[49m\u001b[43m)\u001b[49m)\n\u001b[0;32m     18\u001b[0m \u001b[38;5;28mprint\u001b[39m(arr_value)\n",
      "\u001b[1;31mTypeError\u001b[0m: 'list' object is not callable"
     ]
    }
   ],
   "source": [
    "dct = {1:\"madhav\",2:\"hinani\",4:\"harsh\"}\n",
    "print(dct)\n",
    "print(\"------------\")\n",
    "\n",
    "arr2=np.array(dct)\n",
    "print(dct)\n",
    "print(type(dct))\n",
    "print(\"------------\")\n",
    "\n",
    "# we can see after the execution that the dictionary is not looking completely like the np array , because it has two parts\n",
    "# key value pair so we can break them into part and after that we will convert them into list and to list we will convert #\n",
    "# into aray \n",
    "\n",
    "# arr_key=np.array(lst(dicti.keys()))\n",
    "# print(arr_key)\n",
    "\n",
    "arr_value=np.array(lst(dct.values()))\n",
    "print(arr_value)"
   ]
  },
  {
   "cell_type": "markdown",
   "metadata": {},
   "source": [
    "<h> (iv) Converting the set into array"
   ]
  },
  {
   "cell_type": "code",
   "execution_count": 16,
   "metadata": {},
   "outputs": [
    {
     "name": "stdout",
     "output_type": "stream",
     "text": [
      "{1, 2, 3, 4, 5}\n",
      "<class 'set'>\n",
      "{1, 2, 3, 4, 5}\n",
      "<class 'numpy.ndarray'>\n"
     ]
    }
   ],
   "source": [
    "set_={1,2,3,4,5}\n",
    "print(set_)\n",
    "print(type(set_))\n",
    "\n",
    "arr3=np.array(set_)\n",
    "print(arr3)\n",
    "print(type(arr3))\n"
   ]
  },
  {
   "cell_type": "markdown",
   "metadata": {},
   "source": [
    "<h4>** Converting the Datatypes into numpy array"
   ]
  },
  {
   "cell_type": "markdown",
   "metadata": {},
   "source": [
    "<h>1. converting the integer data types"
   ]
  },
  {
   "cell_type": "code",
   "execution_count": 23,
   "metadata": {},
   "outputs": [
    {
     "name": "stdout",
     "output_type": "stream",
     "text": [
      "[1 2 3 4 5 6]\n",
      "<class 'numpy.ndarray'>\n",
      "--------------\n",
      "[1. 2. 3. 4. 5. 6.]\n",
      "--------------\n",
      "['1' '2' '3' '4' '5' '6']\n",
      "--------------\n",
      "[ True  True  True  True  True  True]\n"
     ]
    }
   ],
   "source": [
    "arr4=np.array([1,2,3,4,5,6])\n",
    "print(arr4)\n",
    "print(type(arr4))\n",
    "print('--------------')\n",
    "\n",
    "# float\n",
    "arr_=arr4.astype('float')\n",
    "print(arr_)\n",
    "print('--------------')\n",
    "\n",
    "# string \n",
    "arr_=arr4.astype('str')\n",
    "print(arr_)\n",
    "print('--------------')\n",
    "# boolean\n",
    "arr_=arr4.astype('bool')\n",
    "print(arr_)"
   ]
  },
  {
   "cell_type": "markdown",
   "metadata": {},
   "source": [
    "<h> 2. Converting the float datatypes"
   ]
  },
  {
   "cell_type": "code",
   "execution_count": 29,
   "metadata": {},
   "outputs": [
    {
     "name": "stdout",
     "output_type": "stream",
     "text": [
      "[1. 2. 3. 4. 5. 6.]\n",
      "<class 'numpy.ndarray'>\n",
      "--------------\n",
      "[1 2 3 4 5 6]\n",
      "--------------\n",
      "['1.0' '2.0' '3.0' '4.0' '5.0' '6.0']\n",
      "[ True  True  True  True  True  True]\n",
      "<class 'numpy.ndarray'>\n"
     ]
    }
   ],
   "source": [
    "arr4=np.array([1.,2.,3.,4.,5.,6.])\n",
    "print(arr4)\n",
    "print(type(arr4))\n",
    "print('--------------')\n",
    "\n",
    "#int\n",
    "arr_=arr4.astype('int')\n",
    "print(arr_)\n",
    "print('--------------')\n",
    "\n",
    "#string \n",
    "arr_=arr4.astype('str')\n",
    "print(arr_)\n",
    "\n",
    "#boolean \n",
    "arr_=arr4.astype('bool')\n",
    "print(arr_)\n",
    "print(type(arr_))\n"
   ]
  },
  {
   "cell_type": "markdown",
   "metadata": {},
   "source": [
    "<h>3. converting the string data type\n"
   ]
  },
  {
   "cell_type": "code",
   "execution_count": 33,
   "metadata": {},
   "outputs": [
    {
     "name": "stdout",
     "output_type": "stream",
     "text": [
      "['1' '2' '3' '4' '5' '6']\n",
      "<class 'numpy.ndarray'>\n",
      "--------------\n",
      "[1 2 3 4 5 6]\n",
      "[1. 2. 3. 4. 5. 6.]\n",
      "[ True  True  True  True  True  True]\n"
     ]
    }
   ],
   "source": [
    "arr4=np.array(['1','2','3','4','5','6'])\n",
    "print(arr4)\n",
    "print(type(arr4))\n",
    "print('--------------')\n",
    "\n",
    "# int \n",
    "arr_=arr4.astype(int)\n",
    "print(arr_)\n",
    "\n",
    "# float\n",
    "arr_=arr4.astype(float)\n",
    "print(arr_)\n",
    "\n",
    "# boolean \n",
    "arr_=arr4.astype(bool)\n",
    "print(arr_)\n",
    "\n"
   ]
  },
  {
   "cell_type": "code",
   "execution_count": 34,
   "metadata": {},
   "outputs": [
    {
     "name": "stdout",
     "output_type": "stream",
     "text": [
      "['1' 'a' '3' '4' '5' '6']\n",
      "<class 'numpy.ndarray'>\n",
      "--------------\n"
     ]
    },
    {
     "ename": "ValueError",
     "evalue": "invalid literal for int() with base 10: np.str_('a')",
     "output_type": "error",
     "traceback": [
      "\u001b[1;31m---------------------------------------------------------------------------\u001b[0m",
      "\u001b[1;31mValueError\u001b[0m                                Traceback (most recent call last)",
      "Cell \u001b[1;32mIn[34], line 7\u001b[0m\n\u001b[0;32m      4\u001b[0m \u001b[38;5;28mprint\u001b[39m(\u001b[38;5;124m'\u001b[39m\u001b[38;5;124m--------------\u001b[39m\u001b[38;5;124m'\u001b[39m)\n\u001b[0;32m      6\u001b[0m \u001b[38;5;66;03m# int \u001b[39;00m\n\u001b[1;32m----> 7\u001b[0m arr_\u001b[38;5;241m=\u001b[39m\u001b[43marr4\u001b[49m\u001b[38;5;241;43m.\u001b[39;49m\u001b[43mastype\u001b[49m\u001b[43m(\u001b[49m\u001b[38;5;28;43mint\u001b[39;49m\u001b[43m)\u001b[49m\n\u001b[0;32m      8\u001b[0m \u001b[38;5;28mprint\u001b[39m(arr_)\n",
      "\u001b[1;31mValueError\u001b[0m: invalid literal for int() with base 10: np.str_('a')"
     ]
    }
   ],
   "source": [
    "arr4=np.array(['1','a','3','4','5','6']) ## this will show error because there should only be a int in the form of string \n",
    "                                         ## no other characters can convert in the int \n",
    "                                         \n",
    "print(arr4)\n",
    "print(type(arr4))\n",
    "print('--------------')\n",
    "\n",
    "# int \n",
    "arr_=arr4.astype(int)\n",
    "print(arr_)\n",
    "\n"
   ]
  },
  {
   "cell_type": "code",
   "execution_count": null,
   "metadata": {},
   "outputs": [],
   "source": []
  },
  {
   "cell_type": "code",
   "execution_count": null,
   "metadata": {},
   "outputs": [],
   "source": []
  },
  {
   "cell_type": "code",
   "execution_count": null,
   "metadata": {},
   "outputs": [],
   "source": []
  },
  {
   "cell_type": "code",
   "execution_count": null,
   "metadata": {},
   "outputs": [],
   "source": []
  }
 ],
 "metadata": {
  "kernelspec": {
   "display_name": "Python 3",
   "language": "python",
   "name": "python3"
  },
  "language_info": {
   "codemirror_mode": {
    "name": "ipython",
    "version": 3
   },
   "file_extension": ".py",
   "mimetype": "text/x-python",
   "name": "python",
   "nbconvert_exporter": "python",
   "pygments_lexer": "ipython3",
   "version": "3.12.4"
  }
 },
 "nbformat": 4,
 "nbformat_minor": 2
}
