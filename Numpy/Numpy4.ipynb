{
 "cells": [
  {
   "cell_type": "markdown",
   "metadata": {},
   "source": [
    "<h> -----  Copy Function -----<h>\n",
    "\n",
    "<p> In programming, when working with arrays or lists, it's crucial to understand how copying works to avoid unintended side effects. In this article, we'll explore the behavior of the copy function in Python lists and NumPy arrays, highlighting the differences and best practices for copying data structures."
   ]
  },
  {
   "cell_type": "markdown",
   "metadata": {},
   "source": [
    "<h> 1. copy function with list "
   ]
  },
  {
   "cell_type": "code",
   "execution_count": 1,
   "metadata": {},
   "outputs": [],
   "source": [
    "import numpy as np"
   ]
  },
  {
   "cell_type": "code",
   "execution_count": 5,
   "metadata": {},
   "outputs": [
    {
     "name": "stdout",
     "output_type": "stream",
     "text": [
      "<class 'list'>\n",
      "[1, 2, 3, 4, 5, 6]\n",
      "[1, 2, 3, 4, 5, 6]\n",
      "\n",
      "----------\n",
      "[1, 2, 9, 4, 5, 6]\n",
      "[1, 2, 9, 4, 5, 6]\n"
     ]
    }
   ],
   "source": [
    "lst=[1,2,3,4,5,6]\n",
    "print(type(lst))\n",
    "\n",
    "lst2=lst\n",
    "print(lst)\n",
    "print(lst2)\n",
    "print()\n",
    "print(\"-\"*10)\n",
    "\n",
    "lst[2]=9\n",
    "print(lst)  # we can clearly see here if we are updating the value in lst then it is also updating in lst2 \n",
    "print(lst2)"
   ]
  },
  {
   "cell_type": "markdown",
   "metadata": {},
   "source": [
    "<h> To solve this we will use copy() function "
   ]
  },
  {
   "cell_type": "code",
   "execution_count": 11,
   "metadata": {},
   "outputs": [
    {
     "name": "stdout",
     "output_type": "stream",
     "text": [
      "\n",
      "[1, 2, 3, 4, 5, 6]\n",
      "[1, 2, 3, 4, 5, 6]\n",
      "--------------------\n",
      "[1, 8, 3, 4, 5, 6]\n",
      "[1, 2, 3, 4, 5, 6]\n"
     ]
    }
   ],
   "source": [
    "lst=[1,2,3,4,5,6]\n",
    "print()\n",
    "lst3=lst.copy()\n",
    "\n",
    "\n",
    "print(lst)\n",
    "print(lst3)\n",
    "\n",
    "print(\"-\"*20)\n",
    "# Now again updating the value in lst \n",
    "lst[1]=8\n",
    "print(lst)\n",
    "print(lst3) # so nowe this time it will not update the value in lst3 beacuse we are using copy function \n"
   ]
  },
  {
   "cell_type": "markdown",
   "metadata": {},
   "source": [
    "<h> 2. Copy Function With Numpy array"
   ]
  },
  {
   "cell_type": "code",
   "execution_count": 16,
   "metadata": {},
   "outputs": [
    {
     "name": "stdout",
     "output_type": "stream",
     "text": [
      "[1 2 3 4 5 6]\n",
      "\n",
      "[1 2 3 4 5 6]\n",
      "[1 2 3 4 5 6]\n",
      "--------------------\n",
      "[1 2 9 4 5 6]\n",
      "[1 2 9 4 5 6]\n"
     ]
    }
   ],
   "source": [
    "arr=np.array((1,2,3,4,5,6))\n",
    "print(arr)\n",
    "print()\n",
    "\n",
    "arr2=arr\n",
    "print(arr)\n",
    "print(arr2)\n",
    "\n",
    "print(\"-\"*20)\n",
    "#updating the value in arr\n",
    "arr[2]=9\n",
    "print(arr)\n",
    "print(arr2)"
   ]
  },
  {
   "cell_type": "markdown",
   "metadata": {},
   "source": [
    "<h> so to solve this Problem in numpy array we will also use Copy() function "
   ]
  },
  {
   "cell_type": "code",
   "execution_count": 20,
   "metadata": {},
   "outputs": [
    {
     "name": "stdout",
     "output_type": "stream",
     "text": [
      "<class 'numpy.ndarray'>\n",
      "\n",
      "[ 1  2 80  4  5  6]\n",
      "[1 2 3 4 5 6]\n"
     ]
    }
   ],
   "source": [
    "arr=np.array([1,2,3,4,5,6])\n",
    "print(type(arr))\n",
    "\n",
    "print()\n",
    "arr3=arr.copy()\n",
    "arr[2]=80\n",
    "\n",
    "print(arr)\n",
    "print(arr3)\n",
    "\n",
    "\n"
   ]
  },
  {
   "cell_type": "code",
   "execution_count": null,
   "metadata": {},
   "outputs": [],
   "source": []
  }
 ],
 "metadata": {
  "kernelspec": {
   "display_name": "Python 3",
   "language": "python",
   "name": "python3"
  },
  "language_info": {
   "codemirror_mode": {
    "name": "ipython",
    "version": 3
   },
   "file_extension": ".py",
   "mimetype": "text/x-python",
   "name": "python",
   "nbconvert_exporter": "python",
   "pygments_lexer": "ipython3",
   "version": "3.12.4"
  }
 },
 "nbformat": 4,
 "nbformat_minor": 2
}
