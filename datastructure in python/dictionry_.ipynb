{
 "cells": [
  {
   "cell_type": "markdown",
   "metadata": {},
   "source": [
    "<h> Dictionary "
   ]
  },
  {
   "cell_type": "markdown",
   "metadata": {},
   "source": [
    "#####  1. Initializing the Dictionary \n"
   ]
  },
  {
   "cell_type": "code",
   "execution_count": 3,
   "metadata": {},
   "outputs": [
    {
     "name": "stdout",
     "output_type": "stream",
     "text": [
      "{1: 'madhav', 2: 'himanshu', 3: 'hemant', 4: 'mahendra'}\n",
      "{'madhav': 1, 'himanshu': 2, 'heamnt': 3, 'mahendra': 4}\n"
     ]
    }
   ],
   "source": [
    "dict={1:\"madhav\",2:\"himanshu\",3:\"hemant\",4:\"mahendra\"}\n",
    "print(dict)\n",
    "dict1={\"madhav\":1,\"himanshu\":2,\"heamnt\":3,\"mahendra\":4}\n",
    "print(dict1)"
   ]
  },
  {
   "cell_type": "markdown",
   "metadata": {},
   "source": [
    "<h>2. Accessing the element of the dictionary "
   ]
  },
  {
   "cell_type": "code",
   "execution_count": 18,
   "metadata": {},
   "outputs": [
    {
     "name": "stdout",
     "output_type": "stream",
     "text": [
      "madhav\n",
      "hemant\n",
      "madhav\n"
     ]
    }
   ],
   "source": [
    "dict\n",
    "dict1\n",
    "# we can access the element of the dictionary by uing the keys of the dictionary \n",
    "print(dict[1])\n",
    "print(dict[3])\n",
    "# we can also access the element of the dictionary by using the get function \n",
    "print(dict.get(1))\n"
   ]
  },
  {
   "cell_type": "code",
   "execution_count": 23,
   "metadata": {},
   "outputs": [
    {
     "name": "stdout",
     "output_type": "stream",
     "text": [
      "1\n"
     ]
    }
   ],
   "source": [
    "# we can also access the element of the dictionary by using the get function\n",
    "print(dict1.get(\"madhav\"))\n"
   ]
  },
  {
   "cell_type": "markdown",
   "metadata": {},
   "source": [
    "<h> 3. Updating or Adding the values in Dictionary "
   ]
  },
  {
   "cell_type": "code",
   "execution_count": 25,
   "metadata": {},
   "outputs": [
    {
     "data": {
      "text/plain": [
       "{1: 'madhav', 2: 'himanshu', 3: 'hemant', 4: 'mahendra', 5: 'rathore'}"
      ]
     },
     "execution_count": 25,
     "metadata": {},
     "output_type": "execute_result"
    }
   ],
   "source": [
    "dict[5]=\"rathore\"\n",
    "dict\n"
   ]
  },
  {
   "cell_type": "markdown",
   "metadata": {},
   "source": [
    "<h> 4. Removing the element \n"
   ]
  },
  {
   "cell_type": "code",
   "execution_count": 29,
   "metadata": {},
   "outputs": [
    {
     "data": {
      "text/plain": [
       "{1: 'madhav', 2: 'himanshu', 3: 'hemant'}"
      ]
     },
     "execution_count": 29,
     "metadata": {},
     "output_type": "execute_result"
    }
   ],
   "source": [
    "del dict[4]\n",
    "dict"
   ]
  },
  {
   "cell_type": "markdown",
   "metadata": {},
   "source": [
    "<h> 5. Cleaning the whole dictionary"
   ]
  },
  {
   "cell_type": "code",
   "execution_count": 31,
   "metadata": {},
   "outputs": [
    {
     "data": {
      "text/plain": [
       "{}"
      ]
     },
     "execution_count": 31,
     "metadata": {},
     "output_type": "execute_result"
    }
   ],
   "source": [
    "dict.clear()\n",
    "dict"
   ]
  },
  {
   "cell_type": "markdown",
   "metadata": {},
   "source": [
    "<h> 6.  Iterating through the dictionary "
   ]
  },
  {
   "cell_type": "code",
   "execution_count": 36,
   "metadata": {},
   "outputs": [
    {
     "name": "stdout",
     "output_type": "stream",
     "text": [
      "{1: 'madhav', 2: 'himanshu', 3: 'hemant', 4: 'mahendra'}\n",
      "dict_keys([1, 2, 3, 4])\n",
      "dict_values(['madhav', 'himanshu', 'hemant', 'mahendra'])\n"
     ]
    }
   ],
   "source": [
    "# Accessing the only values or keys of the Dictionary \n",
    "dict={1:\"madhav\",2:\"himanshu\",3:\"hemant\",4:\"mahendra\"}\n",
    "print(dict)\n",
    "print(dict.keys())\n",
    "print(dict.values())"
   ]
  },
  {
   "cell_type": "code",
   "execution_count": 37,
   "metadata": {},
   "outputs": [
    {
     "name": "stdout",
     "output_type": "stream",
     "text": [
      "1 madhav\n",
      "2 himanshu\n",
      "3 hemant\n",
      "4 mahendra\n",
      "Thank you \n"
     ]
    }
   ],
   "source": [
    "# using for loop \n",
    "for key in dict.keys():\n",
    "    print(key,dict[key])\n",
    "print(\"Thank you \")"
   ]
  },
  {
   "cell_type": "markdown",
   "metadata": {},
   "source": [
    "<h> 7. Checking if the keys is present or not "
   ]
  },
  {
   "cell_type": "code",
   "execution_count": 39,
   "metadata": {},
   "outputs": [
    {
     "name": "stdout",
     "output_type": "stream",
     "text": [
      "True\n",
      "False\n"
     ]
    }
   ],
   "source": [
    "print(1 in dict)\n",
    "print(8 in dict)"
   ]
  },
  {
   "cell_type": "markdown",
   "metadata": {},
   "source": [
    "<h> 8. changing the value between two dictionary "
   ]
  },
  {
   "cell_type": "code",
   "execution_count": 47,
   "metadata": {},
   "outputs": [
    {
     "name": "stdout",
     "output_type": "stream",
     "text": [
      "{1: 'himanshu', 2: 'riya', 3: 'krishna', 4: 'kunal'}\n",
      "{1: 'himanshu', 2: 'riya', 3: 'krishna', 4: 'kunal'}\n"
     ]
    }
   ],
   "source": [
    "dicti1={1:\"madhav\",2:\"hardik\",3:\"kalika\",4:\"kirti\"}\n",
    "dicii2={1:\"himanshu\",2:\"riya\",3:\"krishna\",4:\"kunal\"}\n",
    "dicti1.update(dicii2)\n",
    "\n",
    "print(dicti1)\n",
    "print(dicii2)"
   ]
  },
  {
   "cell_type": "code",
   "execution_count": null,
   "metadata": {},
   "outputs": [],
   "source": []
  },
  {
   "cell_type": "code",
   "execution_count": null,
   "metadata": {},
   "outputs": [],
   "source": []
  },
  {
   "cell_type": "code",
   "execution_count": null,
   "metadata": {},
   "outputs": [],
   "source": []
  },
  {
   "cell_type": "code",
   "execution_count": null,
   "metadata": {},
   "outputs": [],
   "source": []
  }
 ],
 "metadata": {
  "kernelspec": {
   "display_name": "Python 3",
   "language": "python",
   "name": "python3"
  },
  "language_info": {
   "codemirror_mode": {
    "name": "ipython",
    "version": 3
   },
   "file_extension": ".py",
   "mimetype": "text/x-python",
   "name": "python",
   "nbconvert_exporter": "python",
   "pygments_lexer": "ipython3",
   "version": "3.12.4"
  }
 },
 "nbformat": 4,
 "nbformat_minor": 2
}
