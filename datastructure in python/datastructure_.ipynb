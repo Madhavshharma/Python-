{
 "cells": [
  {
   "cell_type": "markdown",
   "metadata": {},
   "source": [
    "<h>---------------- Data structure ------------------"
   ]
  },
  {
   "cell_type": "markdown",
   "metadata": {},
   "source": [
    "<h> In the world of data science, where we're surrounded by tons of information, organizing and understanding data is crucial. Python, a friendly and flexible programming language, comes equipped with tools called data structures that make dealing with data much easier.\n",
    "\n",
    "Naming and Storing Information: Variables\n",
    "Variables are like labeled containers that hold information. Think of them as sticky notes where we jot down data for later use. In Python, creating a variable is as simple as giving a name to your information."
   ]
  }
 ],
 "metadata": {
  "language_info": {
   "name": "python"
  }
 },
 "nbformat": 4,
 "nbformat_minor": 2
}
