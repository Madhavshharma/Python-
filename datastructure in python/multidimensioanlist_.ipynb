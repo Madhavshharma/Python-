{
 "cells": [
  {
   "cell_type": "markdown",
   "metadata": {},
   "source": [
    " multidimensional list                   "
   ]
  },
  {
   "cell_type": "code",
   "execution_count": 1,
   "metadata": {},
   "outputs": [
    {
     "name": "stdout",
     "output_type": "stream",
     "text": [
      "[[1, 2, 3, 4, 5], [3, 5, 7, 9]]\n"
     ]
    }
   ],
   "source": [
    "lst1=[[1,2,3,4,5],[3,5,7,9]]\n",
    "print(lst1)"
   ]
  },
  {
   "cell_type": "code",
   "execution_count": 6,
   "metadata": {},
   "outputs": [
    {
     "name": "stdout",
     "output_type": "stream",
     "text": [
      "[[['madhav', 20, 'e'], ['kartikey', 20, 'F']], [['hemant', 65, '234'], ['rishit', 50, '678']]]\n",
      "kartikey\n",
      "[['hemant', 65, '234'], ['rishit', 50, '678']]\n",
      "rishit\n"
     ]
    }
   ],
   "source": [
    "lst2=[[[\"madhav\",20,\"e\"],[\"kartikey\",20,\"F\"]],[[\"hemant\",65,\"234\"],[\"rishit\",50,\"678\"]]]\n",
    "print(lst2)\n",
    "print(lst2[0][1][0])\n",
    "print(lst2[1])\n",
    "print(lst2[1][1][0])"
   ]
  },
  {
   "cell_type": "code",
   "execution_count": 29,
   "metadata": {},
   "outputs": [
    {
     "data": {
      "text/plain": [
       "[[['madhav', 20, 'F'], ['kartikey', 20, 'F']],\n",
       " [['hemant', 65, '234'], ['himanshu', 20, 'r']],\n",
       " 'sujangarh']"
      ]
     },
     "execution_count": 29,
     "metadata": {},
     "output_type": "execute_result"
    }
   ],
   "source": [
    "# modifying the values\n",
    "lst2\n",
    "lst2[0][0][2]=\"F\"\n",
    "lst2\n",
    " # modifying a complete list inside the big list \n",
    "lst2[1][1]=[\"himanshu\",20,\"r\"]\n",
    "lst2"
   ]
  },
  {
   "cell_type": "code",
   "execution_count": 32,
   "metadata": {},
   "outputs": [
    {
     "data": {
      "text/plain": [
       "[[['madhav', 20, 'e'], ['kartikey', 20, 'F']],\n",
       " [['hemant', 65, '234'], ['rishit', 50, '678']]]"
      ]
     },
     "execution_count": 32,
     "metadata": {},
     "output_type": "execute_result"
    }
   ],
   "source": [
    "# appending the values\n",
    "lst2=[[[\"madhav\",20,\"e\"],[\"kartikey\",20,\"F\"]],[[\"hemant\",65,\"234\"],[\"rishit\",50,\"678\"]]]\n",
    "lst2.append(\"sujangarh\")\n",
    "lst2\n",
    "\n",
    "# removing the element from main list \n",
    "lst2.pop()\n",
    "lst2\n",
    "\n"
   ]
  },
  {
   "cell_type": "code",
   "execution_count": 30,
   "metadata": {},
   "outputs": [
    {
     "data": {
      "text/plain": [
       "[[['madhav', 20, 'F'], ['kartikey', 20, 'F']],\n",
       " [['hemant', 65, '234'], ['himanshu', 20, 'r']],\n",
       " 'sujangarh']"
      ]
     },
     "execution_count": 30,
     "metadata": {},
     "output_type": "execute_result"
    }
   ],
   "source": [
    "lst2"
   ]
  },
  {
   "cell_type": "code",
   "execution_count": 35,
   "metadata": {},
   "outputs": [
    {
     "data": {
      "text/plain": [
       "[[['madhav', 20, 'e'], ['kartikey', 20, 'F']],\n",
       " [['hemant', 65, '234'], ['rishit', 50, '678']],\n",
       " [[2, 3, 4, 5]],\n",
       " [[2, 3, 4, 5]],\n",
       " [[2, 3, 4, 5]]]"
      ]
     },
     "execution_count": 35,
     "metadata": {},
     "output_type": "execute_result"
    }
   ],
   "source": [
    "# appending the new list \n",
    "lst2.append([[2,3,4,5]])\n",
    "lst2"
   ]
  },
  {
   "cell_type": "code",
   "execution_count": 39,
   "metadata": {},
   "outputs": [
    {
     "data": {
      "text/plain": [
       "[[[2, 3, 4, 5]], [[2, 3, 4, 5]]]"
      ]
     },
     "execution_count": 39,
     "metadata": {},
     "output_type": "execute_result"
    }
   ],
   "source": [
    "# deleting the element using delete(at particular index) function inbuilt in python \n",
    "del lst2[0]\n",
    "lst2"
   ]
  },
  {
   "cell_type": "code",
   "execution_count": 41,
   "metadata": {},
   "outputs": [
    {
     "name": "stdout",
     "output_type": "stream",
     "text": [
      "[[1, 2, 3, 4], [9, 10, 11, 13]]\n"
     ]
    }
   ],
   "source": [
    "lst3=[[1,2,3,4],[9,10,11,13],[20,21,22,23]]\n",
    "del lst3[2]\n",
    "print(lst3)"
   ]
  },
  {
   "cell_type": "code",
   "execution_count": 45,
   "metadata": {},
   "outputs": [
    {
     "data": {
      "text/plain": [
       "[[[1, 2, 3, 4], [5, 6, 7, 8]], [[9, 10, 11, 12], [13, 14, 15, 16]]]"
      ]
     },
     "execution_count": 45,
     "metadata": {},
     "output_type": "execute_result"
    }
   ],
   "source": [
    "lst4=[[[1,2,3,4],[5,6,7,8]],[[9,10,11,12],[13,14,15,16]],[[17,18,19,20],[21,22,23,24]]]\n",
    "lst4\n",
    "del lst4[2]\n",
    "lst4\n"
   ]
  },
  {
   "cell_type": "code",
   "execution_count": 47,
   "metadata": {},
   "outputs": [
    {
     "data": {
      "text/plain": [
       "[[[17, 18, 19, 20], [21, 22, 23, 24]],\n",
       " [[9, 10, 11, 12], [13, 14, 15, 16]],\n",
       " [[1, 2, 3, 4], [5, 6, 7, 8]]]"
      ]
     },
     "execution_count": 47,
     "metadata": {},
     "output_type": "execute_result"
    }
   ],
   "source": [
    "# reversing of the multidimensional list \n",
    "#  ==> in multidimensional list reverse function doen not work we have to use indexing in the reversing \n",
    "lst4=[[[1,2,3,4],[5,6,7,8]],[[9,10,11,12],[13,14,15,16]],[[17,18,19,20],[21,22,23,24]]]\n",
    "lst4[::-1]"
   ]
  },
  {
   "cell_type": "code",
   "execution_count": null,
   "metadata": {},
   "outputs": [],
   "source": []
  },
  {
   "cell_type": "code",
   "execution_count": null,
   "metadata": {},
   "outputs": [],
   "source": []
  },
  {
   "cell_type": "code",
   "execution_count": null,
   "metadata": {},
   "outputs": [],
   "source": []
  },
  {
   "cell_type": "code",
   "execution_count": null,
   "metadata": {},
   "outputs": [],
   "source": []
  },
  {
   "cell_type": "code",
   "execution_count": null,
   "metadata": {},
   "outputs": [],
   "source": []
  },
  {
   "cell_type": "code",
   "execution_count": null,
   "metadata": {},
   "outputs": [],
   "source": []
  }
 ],
 "metadata": {
  "kernelspec": {
   "display_name": "Python 3",
   "language": "python",
   "name": "python3"
  },
  "language_info": {
   "codemirror_mode": {
    "name": "ipython",
    "version": 3
   },
   "file_extension": ".py",
   "mimetype": "text/x-python",
   "name": "python",
   "nbconvert_exporter": "python",
   "pygments_lexer": "ipython3",
   "version": "3.12.4"
  }
 },
 "nbformat": 4,
 "nbformat_minor": 2
}
