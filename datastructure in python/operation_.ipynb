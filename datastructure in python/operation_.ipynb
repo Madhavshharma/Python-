{
 "cells": [
  {
   "cell_type": "markdown",
   "metadata": {},
   "source": [
    "<h> Operation on data structure on list , dictionary,tuple,set </h>"
   ]
  },
  {
   "cell_type": "markdown",
   "metadata": {},
   "source": [
    "<h> 1. creating the list "
   ]
  },
  {
   "cell_type": "code",
   "execution_count": 8,
   "metadata": {},
   "outputs": [
    {
     "name": "stdout",
     "output_type": "stream",
     "text": [
      "[1, 2, 3, 4, 5, 6]\n",
      "3\n",
      "2\n"
     ]
    },
    {
     "data": {
      "text/plain": [
       "[1, 2, 3, 4, 5, 6]"
      ]
     },
     "execution_count": 8,
     "metadata": {},
     "output_type": "execute_result"
    }
   ],
   "source": [
    "lst=[1,2,3,4,5,6]\n",
    "print(lst)\n",
    "\n",
    "# Accessing the list element \n",
    "print(lst[2])\n",
    "print(lst[1])\n",
    "# Adding the element using append function\n",
    "lst.append(7)\n",
    "lst\n",
    "\n",
    "# Removing the element from the list\n",
    "lst.remove(7)\n",
    "lst"
   ]
  },
  {
   "cell_type": "code",
   "execution_count": 9,
   "metadata": {},
   "outputs": [
    {
     "data": {
      "text/plain": [
       "[1, 2, 3, 4, 5]"
      ]
     },
     "execution_count": 9,
     "metadata": {},
     "output_type": "execute_result"
    }
   ],
   "source": [
    "# Removing the element using pop function\n",
    "lst.pop()\n",
    "lst"
   ]
  },
  {
   "cell_type": "code",
   "execution_count": 10,
   "metadata": {},
   "outputs": [
    {
     "data": {
      "text/plain": [
       "[1, 2, 3, 'madhavsharma', 5]"
      ]
     },
     "execution_count": 10,
     "metadata": {},
     "output_type": "execute_result"
    }
   ],
   "source": [
    "# Updating the Value using index help\n",
    "lst[3]=\"madhavsharma\"\n",
    "lst"
   ]
  },
  {
   "cell_type": "code",
   "execution_count": 11,
   "metadata": {},
   "outputs": [
    {
     "name": "stdout",
     "output_type": "stream",
     "text": [
      "[1, 2, 3, 4, 5, 6, 7, 8, 9]\n"
     ]
    }
   ],
   "source": [
    "# Addding or concatenate the Two list\n",
    "lst1=[1,2,3,4,5]\n",
    "lst2=[6,7,8,9]\n",
    "print(lst1+lst2)"
   ]
  },
  {
   "cell_type": "code",
   "execution_count": 15,
   "metadata": {},
   "outputs": [
    {
     "name": "stdout",
     "output_type": "stream",
     "text": [
      "1\n",
      "2\n",
      "3\n",
      "madhavsharma\n",
      "5\n"
     ]
    }
   ],
   "source": [
    "# Accessing the element of the list using for loop\n",
    "for i in lst:\n",
    "    print(i)"
   ]
  },
  {
   "cell_type": "code",
   "execution_count": 27,
   "metadata": {},
   "outputs": [
    {
     "name": "stdout",
     "output_type": "stream",
     "text": [
      "[6, 7, 8, 9]\n"
     ]
    }
   ],
   "source": [
    "# using the sort function in list \n",
    "print(sorted(lst2))"
   ]
  },
  {
   "cell_type": "code",
   "execution_count": 30,
   "metadata": {},
   "outputs": [
    {
     "data": {
      "text/plain": [
       "[5, 'madhavsharma', 3, 2, 1]"
      ]
     },
     "execution_count": 30,
     "metadata": {},
     "output_type": "execute_result"
    }
   ],
   "source": [
    "# reversing the list using reverse function\n",
    "lst.reverse()\n",
    "lst"
   ]
  },
  {
   "cell_type": "markdown",
   "metadata": {},
   "source": [
    "<h> 2. Tuple\n",
    "\n"
   ]
  },
  {
   "cell_type": "code",
   "execution_count": 31,
   "metadata": {},
   "outputs": [
    {
     "name": "stdout",
     "output_type": "stream",
     "text": [
      "(1, 2, 3, 4, 5, 'madhav', 'sharma')\n"
     ]
    }
   ],
   "source": [
    "tple=(1,2,3,4,5,\"madhav\",\"sharma\")\n",
    "print(tple)"
   ]
  },
  {
   "cell_type": "code",
   "execution_count": 36,
   "metadata": {},
   "outputs": [
    {
     "name": "stdout",
     "output_type": "stream",
     "text": [
      "2\n",
      "4\n",
      "1\n",
      "2\n",
      "3\n",
      "4\n",
      "5\n",
      "madhav\n",
      "sharma\n"
     ]
    }
   ],
   "source": [
    "# Accessing the element of the tuple\n",
    "print(tple[1])\n",
    "print(tple[3])\n",
    "# Accessing the element using for loop\n",
    "for i in tple:\n",
    "    print(i)\n",
    "    "
   ]
  },
  {
   "cell_type": "code",
   "execution_count": 37,
   "metadata": {},
   "outputs": [
    {
     "name": "stdout",
     "output_type": "stream",
     "text": [
      "(1, 2, 3, 4, 5, 'madhav', 'sharma', 2, 3, 4, 5)\n"
     ]
    }
   ],
   "source": [
    "# Adding the two tuple\n",
    "tple1= (1,2,3,4,5)\n",
    "tple2=(2,3,4,5)\n",
    "print(tple+tple2)\n",
    "\n"
   ]
  },
  {
   "cell_type": "markdown",
   "metadata": {},
   "source": [
    "<h> 3. Dictionary\n"
   ]
  },
  {
   "cell_type": "code",
   "execution_count": 41,
   "metadata": {},
   "outputs": [
    {
     "name": "stdout",
     "output_type": "stream",
     "text": [
      "{1: 'madhav', 2: 'mahendra', 3: 'kirti', 4: 'harshrah'}\n",
      "mahendra\n",
      "madhav\n",
      "kirti\n"
     ]
    }
   ],
   "source": [
    "# Initializing the Dictionary\n",
    "dicti={1:\"madhav\",2:\"mahendra\",3:\"kirti\",4:\"harshrah\"}\n",
    "print(dicti)\n",
    "\n",
    "# Accessing the element of the dictionary using key\n",
    "print(dicti[2])\n",
    "print(dicti[1])\n",
    "# using get function\n",
    "print(dicti.get(3))"
   ]
  },
  {
   "cell_type": "code",
   "execution_count": 44,
   "metadata": {},
   "outputs": [
    {
     "name": "stdout",
     "output_type": "stream",
     "text": [
      "{1: 'madhav', 2: 'kirtishrma', 3: 'kirti', 4: 'harshrah'}\n"
     ]
    },
    {
     "data": {
      "text/plain": [
       "{1: 'madhav', 2: 'kirtishrma', 3: 'kirti', 4: 'harshrah', 'madhavc': 'piet'}"
      ]
     },
     "execution_count": 44,
     "metadata": {},
     "output_type": "execute_result"
    }
   ],
   "source": [
    "# updating or adding the element in dictionary\n",
    "dicti[2]=\"kirtishrma\"\n",
    "print(dicti)\n",
    "\n",
    "dicti[\"madhavc\"]=\"piet\"\n",
    "dicti"
   ]
  },
  {
   "cell_type": "code",
   "execution_count": 48,
   "metadata": {},
   "outputs": [
    {
     "data": {
      "text/plain": [
       "{3: 'kirti', 4: 'harshrah', 'madhavc': 'piet'}"
      ]
     },
     "execution_count": 48,
     "metadata": {},
     "output_type": "execute_result"
    }
   ],
   "source": [
    "del dicti[1]\n",
    "dicti"
   ]
  },
  {
   "cell_type": "code",
   "execution_count": 50,
   "metadata": {},
   "outputs": [
    {
     "name": "stdout",
     "output_type": "stream",
     "text": [
      "dict_keys([3, 4, 'madhavc'])\n"
     ]
    }
   ],
   "source": [
    "# Accessing the keys of the dictionary\n",
    "print(dicti.keys())"
   ]
  },
  {
   "cell_type": "code",
   "execution_count": 52,
   "metadata": {},
   "outputs": [
    {
     "name": "stdout",
     "output_type": "stream",
     "text": [
      "dict_values(['kirti', 'harshrah', 'piet'])\n"
     ]
    }
   ],
   "source": [
    "# accessing the values of the dictionary\n",
    "print(dicti.values())"
   ]
  },
  {
   "cell_type": "code",
   "execution_count": 53,
   "metadata": {},
   "outputs": [
    {
     "name": "stdout",
     "output_type": "stream",
     "text": [
      "3 kirti\n",
      "4 harshrah\n",
      "madhavc piet\n"
     ]
    }
   ],
   "source": [
    "for key in dicti.keys():\n",
    "    print(key,dicti[key])\n",
    "    "
   ]
  },
  {
   "cell_type": "markdown",
   "metadata": {},
   "source": [
    "<h> 4. Set"
   ]
  },
  {
   "cell_type": "code",
   "execution_count": 59,
   "metadata": {},
   "outputs": [
    {
     "name": "stdout",
     "output_type": "stream",
     "text": [
      "{1, 2, 3, 4, 5}\n",
      "2\n",
      "3\n",
      "4\n",
      "5\n",
      "6\n"
     ]
    }
   ],
   "source": [
    "# Initializing the set \n",
    "set1={1,2,3,4,5}\n",
    "print(set1)\n",
    "\n",
    "# adding the value in set\n",
    "set1.add(6)\n",
    "set1\n",
    "\n",
    "set1.remove(1)\n",
    "set1\n",
    "\n",
    "# Accessing the set using for loop\n",
    "for i in set1:\n",
    "    print(i)"
   ]
  },
  {
   "cell_type": "code",
   "execution_count": 62,
   "metadata": {},
   "outputs": [],
   "source": [
    "# adding the two or more set\n",
    "set1\n",
    "set2={\"madhav\",\"sharma\",\"E\"}\n"
   ]
  },
  {
   "cell_type": "code",
   "execution_count": null,
   "metadata": {},
   "outputs": [],
   "source": []
  },
  {
   "cell_type": "code",
   "execution_count": null,
   "metadata": {},
   "outputs": [],
   "source": []
  },
  {
   "cell_type": "code",
   "execution_count": null,
   "metadata": {},
   "outputs": [],
   "source": []
  },
  {
   "cell_type": "code",
   "execution_count": null,
   "metadata": {},
   "outputs": [],
   "source": []
  }
 ],
 "metadata": {
  "kernelspec": {
   "display_name": "Python 3",
   "language": "python",
   "name": "python3"
  },
  "language_info": {
   "codemirror_mode": {
    "name": "ipython",
    "version": 3
   },
   "file_extension": ".py",
   "mimetype": "text/x-python",
   "name": "python",
   "nbconvert_exporter": "python",
   "pygments_lexer": "ipython3",
   "version": "3.12.4"
  }
 },
 "nbformat": 4,
 "nbformat_minor": 2
}
