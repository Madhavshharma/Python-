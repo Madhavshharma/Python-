{
 "cells": [
  {
   "cell_type": "markdown",
   "metadata": {},
   "source": [
    "<h>---------------- Multi Dimensional Dictionary -----------------"
   ]
  },
  {
   "cell_type": "code",
   "execution_count": 2,
   "metadata": {},
   "outputs": [
    {
     "name": "stdout",
     "output_type": "stream",
     "text": [
      "{1: {'name': 'Madhav', 'Roll No': '22', 'section': 'E', 'city': 'Gwalior'}, 2: {'name': 'himanshi', 'Roll No': '23', 'section': 'E', 'city': 'sujangarh'}, 3: {'name': 'kirti', 'Roll No': '24', 'section': 'F', 'city': 'mumbai'}}\n"
     ]
    }
   ],
   "source": [
    "# Incitializing multidimensional dictionary\n",
    "dict1={1:{\"name\":\"Madhav\",\"Roll No\":\"22\",\"section\":\"E\",\"city\":\"Gwalior\"},\n",
    "       2:{\"name\":\"himanshi\",\"Roll No\":\"23\",\"section\":\"E\",\"city\":\"sujangarh\"},\n",
    "       3:{\"name\":\"kirti\",\"Roll No\":\"24\",\"section\":\"F\",\"city\":\"mumbai\"},\n",
    "       }\n",
    "print(dict1)"
   ]
  },
  {
   "cell_type": "code",
   "execution_count": 8,
   "metadata": {},
   "outputs": [
    {
     "name": "stdout",
     "output_type": "stream",
     "text": [
      "{'name': 'Madhav', 'Roll No': '22', 'section': 'E', 'city': 'Gwalior'}\n",
      "Madhav\n",
      "23 sujangarh\n",
      "kirti F mumbai\n"
     ]
    }
   ],
   "source": [
    "# Accessing the element \n",
    "print(dict1[1])\n",
    "print(dict1[1][\"name\"])\n",
    "print(dict1[2][\"Roll No\"],dict1[2][\"city\"])\n",
    "print(dict1[3][\"name\"],dict1[3][\"section\"],dict1[3][\"city\"])"
   ]
  },
  {
   "cell_type": "code",
   "execution_count": 12,
   "metadata": {},
   "outputs": [
    {
     "name": "stdout",
     "output_type": "stream",
     "text": [
      "{1: {'name': 'Madhav', 'Roll No': '22', 'section': 'E', 'city': 'Gwalior'}, 2: {'name': 'sahil', 'Roll No': 45, 'address': 'jaipr'}, 3: {'name': 'kirti', 'Roll No': '24', 'section': 'F', 'city': 'mumbai'}}\n"
     ]
    }
   ],
   "source": [
    "# Updating the values in dictionary\n",
    "dict1[2]={\"name\":\"sahil\",\"Roll No\":45,\"address\":\"jaipr\"}\n",
    "print(dict1)"
   ]
  },
  {
   "cell_type": "code",
   "execution_count": 14,
   "metadata": {},
   "outputs": [
    {
     "name": "stdout",
     "output_type": "stream",
     "text": [
      "{1: {'name': 'Madhav', 'Roll No': '22', 'section': 'E', 'city': 'Gwalior'}, 2: {'name': 'sahil', 'Roll No': 45, 'address': 'jaipr'}, 3: {'name': 'kirti', 'Roll No': '24', 'section': 'F', 'city': 'mumbai'}, 4: {'name': 'sahil', 'Roll No': 45, 'address': 'jaipr'}}\n"
     ]
    }
   ],
   "source": [
    "# adding the elemeent or a new sub ditionary \n",
    "dict1[4]={\"name\":\"sahil\",\"Roll No\":45,\"address\":\"jaipr\"}\n",
    "print(dict1)"
   ]
  },
  {
   "cell_type": "code",
   "execution_count": 17,
   "metadata": {},
   "outputs": [
    {
     "name": "stdout",
     "output_type": "stream",
     "text": [
      "{1: {'name': 'Madhav', 'Roll No': '22', 'section': 'E', 'city': 'Gwalior'}, 4: {'name': 'sahil', 'Roll No': 45, 'address': 'jaipr'}}\n"
     ]
    }
   ],
   "source": [
    "# deleting the elemt \n",
    "del dict1[3]\n",
    "print(dict1)\n",
    "\n"
   ]
  },
  {
   "cell_type": "code",
   "execution_count": 21,
   "metadata": {},
   "outputs": [
    {
     "name": "stdout",
     "output_type": "stream",
     "text": [
      "1 Madhav 22\n",
      "4 sahil 45\n"
     ]
    }
   ],
   "source": [
    "# iterating the element using for loop\n",
    "for i in dict1.keys():\n",
    "    print(i,dict1[i][\"name\"],dict1[i][\"Roll No\"])"
   ]
  },
  {
   "cell_type": "code",
   "execution_count": 24,
   "metadata": {},
   "outputs": [],
   "source": [
    "def insert_dict(key, value, dict):\n",
    "    dict={key:value}\n",
    "    print(\"inserted\")\n"
   ]
  },
  {
   "cell_type": "code",
   "execution_count": null,
   "metadata": {},
   "outputs": [],
   "source": []
  },
  {
   "cell_type": "code",
   "execution_count": null,
   "metadata": {},
   "outputs": [],
   "source": []
  }
 ],
 "metadata": {
  "kernelspec": {
   "display_name": "Python 3",
   "language": "python",
   "name": "python3"
  },
  "language_info": {
   "codemirror_mode": {
    "name": "ipython",
    "version": 3
   },
   "file_extension": ".py",
   "mimetype": "text/x-python",
   "name": "python",
   "nbconvert_exporter": "python",
   "pygments_lexer": "ipython3",
   "version": "3.12.4"
  }
 },
 "nbformat": 4,
 "nbformat_minor": 2
}
