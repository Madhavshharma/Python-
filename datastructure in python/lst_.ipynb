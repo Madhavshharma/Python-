{
 "cells": [
  {
   "cell_type": "markdown",
   "metadata": {},
   "source": [
    "##### ------------- List ----------------"
   ]
  },
  {
   "cell_type": "markdown",
   "metadata": {},
   "source": []
  },
  {
   "cell_type": "markdown",
   "metadata": {},
   "source": [
    "<h> Python Lists are just like the arrays, declared in other languages which is an ordered collection of data. It is very flexible as the items in a list do not need to be of the same type. Here are the key characteristics of lists:\n",
    "\n",
    "Lists in Python maintain the order of elements as they are inserted. The order in which elements are added is the same order in which they are stored.\n",
    "\n",
    "Lists are mutable, meaning you can modify their elements after the list is created. You can change, add, or remove elements from a list.\n",
    "\n",
    "Lists can contain elements of different data types.\n",
    "\n",
    "Lists in Python are dynamic, meaning they can grow or shrink in size as needed.\n",
    "\n",
    "Lists support indexing, allowing you to access individual elements using their position (index) in the list.\n",
    "\n",
    "Lists are iterable, meaning you can loop through each element using a for loop."
   ]
  },
  {
   "cell_type": "markdown",
   "metadata": {},
   "source": [
    "<h> creating list"
   ]
  },
  {
   "cell_type": "code",
   "execution_count": 5,
   "metadata": {},
   "outputs": [
    {
     "name": "stdout",
     "output_type": "stream",
     "text": [
      "[1, 2, 3, 4, 5, 6, 7, 'madhav', 'harsh']\n"
     ]
    }
   ],
   "source": [
    "lst=[1,2,3,4,5,6,7,\"madhav\",\"harsh\"]\n",
    "print(lst)\n"
   ]
  },
  {
   "cell_type": "code",
   "execution_count": 6,
   "metadata": {},
   "outputs": [
    {
     "name": "stdout",
     "output_type": "stream",
     "text": [
      "[21, 'Rose', 'CSE', 30, 40, 50]\n"
     ]
    }
   ],
   "source": [
    "Student_info = [21, 'Rose', \"CSE\", 30, 40, 50]\n",
    "print(Student_info)"
   ]
  },
  {
   "cell_type": "code",
   "execution_count": 7,
   "metadata": {},
   "outputs": [
    {
     "name": "stdout",
     "output_type": "stream",
     "text": [
      "21\n",
      "CSE\n"
     ]
    }
   ],
   "source": [
    "# Accessing the element of the list using indexing \n",
    "Student_info = [21, 'Rose', \"CSE\", 30, 40, 50]\n",
    "print(Student_info[0])\n",
    "\n",
    "print(Student_info[2])"
   ]
  },
  {
   "cell_type": "markdown",
   "metadata": {},
   "source": [
    "<h> Slicing Lists </h>\n",
    "\n",
    "List slicing allows you to create sub-lists by specifying a range of indices"
   ]
  },
  {
   "cell_type": "code",
   "execution_count": 8,
   "metadata": {},
   "outputs": [
    {
     "name": "stdout",
     "output_type": "stream",
     "text": [
      "[21, 'Rose', 'CSE', 30]\n"
     ]
    }
   ],
   "source": [
    "# slicing the list \n",
    "Student_info = [21, 'Rose', \"CSE\", 30, 40, 50]\n",
    "print(Student_info[0:4])\n"
   ]
  },
  {
   "cell_type": "markdown",
   "metadata": {},
   "source": [
    "<h>modigying the lst "
   ]
  },
  {
   "cell_type": "markdown",
   "metadata": {},
   "source": [
    "<h> 1. adding the element into list "
   ]
  },
  {
   "cell_type": "code",
   "execution_count": 9,
   "metadata": {},
   "outputs": [
    {
     "name": "stdout",
     "output_type": "stream",
     "text": [
      "[21, 'Rose', 'CSE', 30, 40, 50, 'ajaymehta']\n",
      "[21, 'Rose', 'CSE', 30, 40, 50]\n"
     ]
    }
   ],
   "source": [
    "Student_info = [21, 'Rose', \"CSE\", 30, 40, 50]\n",
    "Student_info.append(\"ajaymehta\")\n",
    "print(Student_info)\n",
    "\n",
    "Student_info.remove(\"ajaymehta\")\n",
    "print(Student_info)"
   ]
  },
  {
   "cell_type": "markdown",
   "metadata": {},
   "source": [
    "2. remove the element "
   ]
  },
  {
   "cell_type": "code",
   "execution_count": 10,
   "metadata": {},
   "outputs": [
    {
     "name": "stdout",
     "output_type": "stream",
     "text": [
      "[21, 'Rose', 'CSE', 30, 40, 50]\n"
     ]
    }
   ],
   "source": [
    "\n",
    "print(Student_info)\n",
    "# Student_info.remove(\"pass the element to which we want to remove\")\n",
    "\n"
   ]
  },
  {
   "cell_type": "markdown",
   "metadata": {},
   "source": [
    "3. changing the element \n"
   ]
  },
  {
   "cell_type": "code",
   "execution_count": 11,
   "metadata": {},
   "outputs": [
    {
     "name": "stdout",
     "output_type": "stream",
     "text": [
      "[21, 'Rose', 'madhav', 30, 40, 50]\n"
     ]
    }
   ],
   "source": [
    "Student_info = [21, 'Rose', \"CSE\", 30, 40, 50]\n",
    "Student_info[2]=\"madhav\"\n",
    "print(Student_info)"
   ]
  },
  {
   "cell_type": "code",
   "execution_count": 12,
   "metadata": {},
   "outputs": [
    {
     "name": "stdout",
     "output_type": "stream",
     "text": [
      "6\n"
     ]
    }
   ],
   "source": [
    "# printing the length of the list \n",
    "print(len(Student_info))"
   ]
  },
  {
   "cell_type": "markdown",
   "metadata": {},
   "source": [
    "4. Removing the element from the last \n"
   ]
  },
  {
   "cell_type": "code",
   "execution_count": 2,
   "metadata": {},
   "outputs": [],
   "source": [
    "Student_info = [21, 'Rose', \"CSE\", 30, 40, 50]\n",
    "# Student_info.pop()\n",
    "# print(Student_info)\n",
    "\n",
    "del Student_info[2]\n",
    "\n"
   ]
  },
  {
   "cell_type": "markdown",
   "metadata": {},
   "source": [
    "list operation "
   ]
  },
  {
   "cell_type": "markdown",
   "metadata": {},
   "source": [
    "a. Concatenation "
   ]
  },
  {
   "cell_type": "code",
   "execution_count": 14,
   "metadata": {},
   "outputs": [
    {
     "data": {
      "text/plain": [
       "[21, 'Rose', 'CSE', 30, 40, 50, 'parent name', 'age', 'section', 'mobile', 23]"
      ]
     },
     "execution_count": 14,
     "metadata": {},
     "output_type": "execute_result"
    }
   ],
   "source": [
    "Student_info = [21, 'Rose', \"CSE\", 30, 40, 50]\n",
    "parent_info=[\"parent name\",\"age\",\"section\",\"mobile\",23 ]\n",
    "Student_info+parent_info\n"
   ]
  },
  {
   "cell_type": "markdown",
   "metadata": {},
   "source": [
    "b. repetation "
   ]
  },
  {
   "cell_type": "markdown",
   "metadata": {},
   "source": []
  },
  {
   "cell_type": "code",
   "execution_count": 17,
   "metadata": {},
   "outputs": [
    {
     "name": "stdout",
     "output_type": "stream",
     "text": [
      "[21, 'Rose', 'CSE', 30, 40, 50, 21, 'Rose', 'CSE', 30, 40, 50, 21, 'Rose', 'CSE', 30, 40, 50]\n"
     ]
    }
   ],
   "source": [
    "# Repetation \n",
    "print(Student_info*3)"
   ]
  },
  {
   "cell_type": "markdown",
   "metadata": {},
   "source": [
    "Common  List method "
   ]
  },
  {
   "cell_type": "markdown",
   "metadata": {},
   "source": [
    "a. len()"
   ]
  },
  {
   "cell_type": "code",
   "execution_count": 19,
   "metadata": {},
   "outputs": [
    {
     "data": {
      "text/plain": [
       "6"
      ]
     },
     "execution_count": 19,
     "metadata": {},
     "output_type": "execute_result"
    }
   ],
   "source": [
    "len(Student_info)"
   ]
  },
  {
   "cell_type": "markdown",
   "metadata": {},
   "source": [
    "b. Sort()"
   ]
  },
  {
   "cell_type": "code",
   "execution_count": 21,
   "metadata": {},
   "outputs": [
    {
     "name": "stdout",
     "output_type": "stream",
     "text": [
      "[2, 4, 6, 10, 10, 19, 23]\n"
     ]
    }
   ],
   "source": [
    "lst2=[19,10,23,10,4,6,2]\n",
    "print(sorted(lst2))\n",
    "lst2.sort()"
   ]
  },
  {
   "cell_type": "markdown",
   "metadata": {},
   "source": [
    "c. Reverse()"
   ]
  },
  {
   "cell_type": "code",
   "execution_count": 24,
   "metadata": {},
   "outputs": [
    {
     "data": {
      "text/plain": [
       "[2, 6, 4, 10, 23, 10, 19]"
      ]
     },
     "execution_count": 24,
     "metadata": {},
     "output_type": "execute_result"
    }
   ],
   "source": [
    "lst2=[19,10,23,10,4,6,2]\n",
    "lst2.reverse()\n",
    "lst2"
   ]
  },
  {
   "cell_type": "code",
   "execution_count": null,
   "metadata": {},
   "outputs": [],
   "source": []
  },
  {
   "cell_type": "code",
   "execution_count": null,
   "metadata": {},
   "outputs": [],
   "source": []
  },
  {
   "cell_type": "code",
   "execution_count": null,
   "metadata": {},
   "outputs": [],
   "source": []
  },
  {
   "cell_type": "code",
   "execution_count": null,
   "metadata": {},
   "outputs": [],
   "source": []
  },
  {
   "cell_type": "code",
   "execution_count": null,
   "metadata": {},
   "outputs": [],
   "source": []
  },
  {
   "cell_type": "code",
   "execution_count": null,
   "metadata": {},
   "outputs": [],
   "source": []
  },
  {
   "cell_type": "code",
   "execution_count": null,
   "metadata": {},
   "outputs": [],
   "source": []
  },
  {
   "cell_type": "code",
   "execution_count": null,
   "metadata": {},
   "outputs": [],
   "source": []
  },
  {
   "cell_type": "code",
   "execution_count": null,
   "metadata": {},
   "outputs": [],
   "source": []
  },
  {
   "cell_type": "code",
   "execution_count": null,
   "metadata": {},
   "outputs": [],
   "source": []
  }
 ],
 "metadata": {
  "kernelspec": {
   "display_name": "Python 3",
   "language": "python",
   "name": "python3"
  },
  "language_info": {
   "codemirror_mode": {
    "name": "ipython",
    "version": 3
   },
   "file_extension": ".py",
   "mimetype": "text/x-python",
   "name": "python",
   "nbconvert_exporter": "python",
   "pygments_lexer": "ipython3",
   "version": "3.12.4"
  }
 },
 "nbformat": 4,
 "nbformat_minor": 2
}
